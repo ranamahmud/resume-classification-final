{
 "cells": [
  {
   "cell_type": "code",
   "execution_count": 1,
   "id": "460a4ae7-a869-4b07-a8fa-269d373f860d",
   "metadata": {},
   "outputs": [
    {
     "name": "stderr",
     "output_type": "stream",
     "text": [
      "[nltk_data] Downloading package punkt to /home/ranamahmud/nltk_data...\n",
      "[nltk_data]   Package punkt is already up-to-date!\n",
      "[nltk_data] Downloading package stopwords to\n",
      "[nltk_data]     /home/ranamahmud/nltk_data...\n",
      "[nltk_data]   Package stopwords is already up-to-date!\n",
      "[nltk_data] Downloading package wordnet to\n",
      "[nltk_data]     /home/ranamahmud/nltk_data...\n",
      "[nltk_data]   Package wordnet is already up-to-date!\n",
      "[nltk_data] Downloading package punkt_tab to\n",
      "[nltk_data]     /home/ranamahmud/nltk_data...\n",
      "[nltk_data]   Package punkt_tab is already up-to-date!\n"
     ]
    },
    {
     "data": {
      "text/plain": [
       "True"
      ]
     },
     "execution_count": 1,
     "metadata": {},
     "output_type": "execute_result"
    }
   ],
   "source": [
    "import numpy as np\n",
    "import pandas as pd\n",
    "import matplotlib.pyplot as plt\n",
    "import seaborn as sns\n",
    "import re\n",
    "import string\n",
    "import json\n",
    "import torch\n",
    "import nltk\n",
    "from time import time\n",
    "\n",
    "from transformers import AutoTokenizer, AutoModelForSequenceClassification, TrainingArguments, Trainer\n",
    "from datasets import Dataset\n",
    "\n",
    "from sklearn.model_selection import train_test_split\n",
    "from sklearn.linear_model import RidgeClassifier, LogisticRegression, SGDClassifier\n",
    "from sklearn.ensemble import RandomForestClassifier\n",
    "from sklearn.naive_bayes import ComplementNB, GaussianNB\n",
    "from sklearn.neighbors import KNeighborsClassifier, NearestCentroid\n",
    "from sklearn.svm import LinearSVC\n",
    "from sklearn.feature_extraction.text import TfidfVectorizer\n",
    "from sklearn.metrics import precision_recall_fscore_support, accuracy_score, precision_score, recall_score, f1_score, ConfusionMatrixDisplay\n",
    "from sklearn import metrics\n",
    "from sklearn.utils.extmath import density\n",
    "\n",
    "from nltk.tokenize import word_tokenize\n",
    "from nltk.corpus import stopwords         \n",
    "from nltk.stem import PorterStemmer\n",
    "nltk.download('punkt')\n",
    "nltk.download('stopwords')\n",
    "nltk.download('wordnet')\n",
    "nltk.download('punkt_tab')\n"
   ]
  },
  {
   "cell_type": "code",
   "execution_count": 2,
   "id": "48c52968-e59f-47ea-98d0-f339ae8d9f13",
   "metadata": {},
   "outputs": [],
   "source": [
    "df = pd.read_csv(\"./Resume/Resume.csv\")"
   ]
  },
  {
   "cell_type": "markdown",
   "id": "c6b22a97-af85-4afa-8bd8-90d116db7fa5",
   "metadata": {},
   "source": [
    "# 2. Data Exploration and Preprocessing"
   ]
  },
  {
   "cell_type": "code",
   "execution_count": 3,
   "id": "b02d295d-c1fe-44af-a3c0-16ecf7abd66b",
   "metadata": {},
   "outputs": [
    {
     "data": {
      "text/html": [
       "<div>\n",
       "<style scoped>\n",
       "    .dataframe tbody tr th:only-of-type {\n",
       "        vertical-align: middle;\n",
       "    }\n",
       "\n",
       "    .dataframe tbody tr th {\n",
       "        vertical-align: top;\n",
       "    }\n",
       "\n",
       "    .dataframe thead th {\n",
       "        text-align: right;\n",
       "    }\n",
       "</style>\n",
       "<table border=\"1\" class=\"dataframe\">\n",
       "  <thead>\n",
       "    <tr style=\"text-align: right;\">\n",
       "      <th></th>\n",
       "      <th>ID</th>\n",
       "      <th>Resume_str</th>\n",
       "      <th>Resume_html</th>\n",
       "      <th>Category</th>\n",
       "    </tr>\n",
       "  </thead>\n",
       "  <tbody>\n",
       "    <tr>\n",
       "      <th>0</th>\n",
       "      <td>16852973</td>\n",
       "      <td>HR ADMINISTRATOR/MARKETING ASSOCIATE\\...</td>\n",
       "      <td>&lt;div class=\"fontsize fontface vmargins hmargin...</td>\n",
       "      <td>HR</td>\n",
       "    </tr>\n",
       "    <tr>\n",
       "      <th>1</th>\n",
       "      <td>22323967</td>\n",
       "      <td>HR SPECIALIST, US HR OPERATIONS      ...</td>\n",
       "      <td>&lt;div class=\"fontsize fontface vmargins hmargin...</td>\n",
       "      <td>HR</td>\n",
       "    </tr>\n",
       "    <tr>\n",
       "      <th>2</th>\n",
       "      <td>33176873</td>\n",
       "      <td>HR DIRECTOR       Summary      Over 2...</td>\n",
       "      <td>&lt;div class=\"fontsize fontface vmargins hmargin...</td>\n",
       "      <td>HR</td>\n",
       "    </tr>\n",
       "    <tr>\n",
       "      <th>3</th>\n",
       "      <td>27018550</td>\n",
       "      <td>HR SPECIALIST       Summary    Dedica...</td>\n",
       "      <td>&lt;div class=\"fontsize fontface vmargins hmargin...</td>\n",
       "      <td>HR</td>\n",
       "    </tr>\n",
       "    <tr>\n",
       "      <th>4</th>\n",
       "      <td>17812897</td>\n",
       "      <td>HR MANAGER         Skill Highlights  ...</td>\n",
       "      <td>&lt;div class=\"fontsize fontface vmargins hmargin...</td>\n",
       "      <td>HR</td>\n",
       "    </tr>\n",
       "  </tbody>\n",
       "</table>\n",
       "</div>"
      ],
      "text/plain": [
       "         ID                                         Resume_str  \\\n",
       "0  16852973           HR ADMINISTRATOR/MARKETING ASSOCIATE\\...   \n",
       "1  22323967           HR SPECIALIST, US HR OPERATIONS      ...   \n",
       "2  33176873           HR DIRECTOR       Summary      Over 2...   \n",
       "3  27018550           HR SPECIALIST       Summary    Dedica...   \n",
       "4  17812897           HR MANAGER         Skill Highlights  ...   \n",
       "\n",
       "                                         Resume_html Category  \n",
       "0  <div class=\"fontsize fontface vmargins hmargin...       HR  \n",
       "1  <div class=\"fontsize fontface vmargins hmargin...       HR  \n",
       "2  <div class=\"fontsize fontface vmargins hmargin...       HR  \n",
       "3  <div class=\"fontsize fontface vmargins hmargin...       HR  \n",
       "4  <div class=\"fontsize fontface vmargins hmargin...       HR  "
      ]
     },
     "execution_count": 3,
     "metadata": {},
     "output_type": "execute_result"
    }
   ],
   "source": [
    "# print first few rows of the data\n",
    "df.head()"
   ]
  },
  {
   "cell_type": "code",
   "execution_count": null,
   "id": "d0f7babd-58ad-4c4c-8b71-939c3f644ddd",
   "metadata": {},
   "outputs": [],
   "source": []
  },
  {
   "cell_type": "markdown",
   "id": "c16abbb3-0bdd-4167-8e3b-d9569a5248ae",
   "metadata": {},
   "source": [
    "## Text exploration"
   ]
  },
  {
   "cell_type": "code",
   "execution_count": 4,
   "id": "bb374fc0-145e-4129-a97d-f9964427cce8",
   "metadata": {},
   "outputs": [
    {
     "data": {
      "text/plain": [
       "'         EVENT LEAD / PREP COOK / ASSISTANT PASTRY CHEF       Summary     Talented cook with a diver'"
      ]
     },
     "execution_count": 4,
     "metadata": {},
     "output_type": "execute_result"
    }
   ],
   "source": [
    "id = np.random.randint(len(df))\n",
    "df.Resume_str[id][0:100]"
   ]
  },
  {
   "cell_type": "code",
   "execution_count": 5,
   "id": "47518d30-ced8-42ff-ab8f-5c406a943df7",
   "metadata": {},
   "outputs": [
    {
     "data": {
      "text/plain": [
       "'         GENERAL CONSTRUCTION INTERN       Objective     Dedicated student\\xa0with excellent technical,'"
      ]
     },
     "execution_count": 5,
     "metadata": {},
     "output_type": "execute_result"
    }
   ],
   "source": [
    "id = np.random.randint(len(df))\n",
    "df.Resume_str[id][0:100]"
   ]
  },
  {
   "cell_type": "code",
   "execution_count": 6,
   "id": "92a0b48a-437a-45cb-b469-f157abda9c53",
   "metadata": {},
   "outputs": [
    {
     "data": {
      "text/plain": [
       "'         QUALITY ASSURANCE LEAD       Career Overview     Coaching & Development Technical Support A'"
      ]
     },
     "execution_count": 6,
     "metadata": {},
     "output_type": "execute_result"
    }
   ],
   "source": [
    "id = np.random.randint(len(df))\n",
    "df.Resume_str[id][0:100]"
   ]
  },
  {
   "cell_type": "code",
   "execution_count": 7,
   "id": "faa1c77f-5185-466b-b13d-aeb00a49e896",
   "metadata": {},
   "outputs": [],
   "source": [
    "# remove words related to Category"
   ]
  },
  {
   "cell_type": "code",
   "execution_count": 8,
   "id": "8773fcb4-f51d-4e4e-87e9-76de67f72115",
   "metadata": {},
   "outputs": [],
   "source": [
    "category = set(df.Category.str.lower())"
   ]
  },
  {
   "cell_type": "code",
   "execution_count": 9,
   "id": "0668adf4-1ae7-4d3c-b4da-c67c9324c9dc",
   "metadata": {},
   "outputs": [
    {
     "data": {
      "text/plain": [
       "{'accountant',\n",
       " 'advocate',\n",
       " 'agriculture',\n",
       " 'apparel',\n",
       " 'arts',\n",
       " 'automobile',\n",
       " 'aviation',\n",
       " 'banking',\n",
       " 'bpo',\n",
       " 'business-development',\n",
       " 'chef',\n",
       " 'construction',\n",
       " 'consultant',\n",
       " 'designer',\n",
       " 'digital-media',\n",
       " 'engineering',\n",
       " 'finance',\n",
       " 'fitness',\n",
       " 'healthcare',\n",
       " 'hr',\n",
       " 'information-technology',\n",
       " 'public-relations',\n",
       " 'sales',\n",
       " 'teacher'}"
      ]
     },
     "execution_count": 9,
     "metadata": {},
     "output_type": "execute_result"
    }
   ],
   "source": [
    "category"
   ]
  },
  {
   "cell_type": "code",
   "execution_count": 10,
   "id": "1534ec55-4351-45e3-9e91-38b75b381e5a",
   "metadata": {},
   "outputs": [],
   "source": [
    "# def remove_words(text, words):\n",
    "#     # Create a regex pattern to match the words\n",
    "#     pattern = r'\\b(?:' + '|'.join(map(re.escape, words)) + r')\\b'\n",
    "#     # Use re.sub to remove the matched words\n",
    "#     return re.sub(pattern, '', text, flags=re.IGNORECASE)"
   ]
  },
  {
   "cell_type": "code",
   "execution_count": 11,
   "id": "e1477425-5e37-44cb-b9f3-6bfbcdf8fa6a",
   "metadata": {},
   "outputs": [],
   "source": [
    "# df['Resume_str'] = df['Resume_str'].apply(lambda x: remove_words(x, category))"
   ]
  },
  {
   "cell_type": "markdown",
   "id": "40665be9-79fa-4d5c-bc0b-a28c82e69835",
   "metadata": {},
   "source": [
    "### Data Leackage"
   ]
  },
  {
   "cell_type": "markdown",
   "id": "1e3b0e9a-dc50-46b3-82a1-d21d5fe6ca16",
   "metadata": {},
   "source": [
    "There is a data leackage issue. Because Category is written in most of the CV. For this reason I've trained model removing the category target texts from the resume. But the model performance for validation and test set got bad.\n",
    "\n",
    "{'eval_loss': 1.5424693822860718,\n",
    " 'eval_accuracy': 0.5975855130784709,\n",
    " 'eval_precision': 0.5890011161926136,\n",
    " 'eval_recall': 0.5975855130784709,\n",
    " 'eval_f1': 0.5885319850900211,\n",
    " 'eval_runtime': 1.1094,\n",
    " 'eval_samples_per_second': 448.0,\n",
    " 'eval_steps_per_second': 14.423,\n",
    " 'epoch': 14.0}\n",
    "# Evaluate on test set (final evaluation)\n",
    "print(\"Test Set Performance:\")\n",
    "test_results = trainer.evaluate(eval_dataset=test_dataset)\n",
    "print(test_results)\n",
    "Test Set Performance:\n",
    "{'eval_loss': 1.5591726303100586, 'eval_accuracy': 0.5875251509054326, 'eval_precision': 0.5797803324852914, 'eval_recall': 0.5875251509054326, 'eval_f1': 0.5767517019061779, 'eval_runtime': 1.0906, 'eval_samples_per_second': 455.727, 'eval_steps_per_second': 14.671, 'epoch': 14.0}"
   ]
  },
  {
   "cell_type": "markdown",
   "id": "b6c407c8-516f-42fd-8707-ed1610c87fcf",
   "metadata": {},
   "source": [
    "### Model performance after remove first 100 character to prevent data leackage only in the pdf top\n"
   ]
  },
  {
   "cell_type": "code",
   "execution_count": 12,
   "id": "31fe0e00-eaac-42e3-8732-5ced9c69fdd6",
   "metadata": {},
   "outputs": [],
   "source": [
    "df['Resume_str'] = df['Resume_str'].apply(lambda x: x[100:] if len(x) > 100 else '')\n"
   ]
  },
  {
   "cell_type": "code",
   "execution_count": 13,
   "id": "244a414f-cbf2-4341-830f-ae726d34a727",
   "metadata": {},
   "outputs": [
    {
     "data": {
      "text/plain": [
       "(2484, 4)"
      ]
     },
     "execution_count": 13,
     "metadata": {},
     "output_type": "execute_result"
    }
   ],
   "source": [
    "# print dataframe shape\n",
    "df.shape"
   ]
  },
  {
   "cell_type": "code",
   "execution_count": 14,
   "id": "f2b28e9f-83f9-4ac9-bc48-1d66d13e648e",
   "metadata": {},
   "outputs": [
    {
     "data": {
      "text/plain": [
       "ID             2484\n",
       "Resume_str     2482\n",
       "Resume_html    2482\n",
       "Category         24\n",
       "dtype: int64"
      ]
     },
     "execution_count": 14,
     "metadata": {},
     "output_type": "execute_result"
    }
   ],
   "source": [
    "# count no of unique values in each column\n",
    "df.nunique()"
   ]
  },
  {
   "cell_type": "code",
   "execution_count": 15,
   "id": "86dc1f44-304f-46fa-847b-25710761a02d",
   "metadata": {},
   "outputs": [
    {
     "data": {
      "text/plain": [
       "ID             0\n",
       "Resume_str     0\n",
       "Resume_html    0\n",
       "Category       0\n",
       "dtype: int64"
      ]
     },
     "execution_count": 15,
     "metadata": {},
     "output_type": "execute_result"
    }
   ],
   "source": [
    "# check for null values\n",
    "df.isnull().sum()"
   ]
  },
  {
   "cell_type": "markdown",
   "id": "973f32cf-d5c3-47a3-bcd5-3b2d8823f253",
   "metadata": {},
   "source": [
    "We can see that there is no null values in the dataframe"
   ]
  },
  {
   "cell_type": "markdown",
   "id": "b1af283c-1b82-49e4-a316-8c251d0dc42d",
   "metadata": {},
   "source": [
    "## Category column exploration"
   ]
  },
  {
   "cell_type": "code",
   "execution_count": 16,
   "id": "82583f2f-c4f0-4f7a-9341-632318818da2",
   "metadata": {},
   "outputs": [
    {
     "data": {
      "text/plain": [
       "Category\n",
       "INFORMATION-TECHNOLOGY    120\n",
       "BUSINESS-DEVELOPMENT      120\n",
       "ADVOCATE                  118\n",
       "CHEF                      118\n",
       "ENGINEERING               118\n",
       "ACCOUNTANT                118\n",
       "FINANCE                   118\n",
       "FITNESS                   117\n",
       "AVIATION                  117\n",
       "SALES                     116\n",
       "BANKING                   115\n",
       "HEALTHCARE                115\n",
       "CONSULTANT                115\n",
       "CONSTRUCTION              112\n",
       "PUBLIC-RELATIONS          111\n",
       "HR                        110\n",
       "DESIGNER                  107\n",
       "ARTS                      103\n",
       "TEACHER                   102\n",
       "APPAREL                    97\n",
       "DIGITAL-MEDIA              96\n",
       "AGRICULTURE                63\n",
       "AUTOMOBILE                 36\n",
       "BPO                        22\n",
       "Name: count, dtype: int64"
      ]
     },
     "execution_count": 16,
     "metadata": {},
     "output_type": "execute_result"
    }
   ],
   "source": [
    "# Value counts\n",
    "df.Category.value_counts()"
   ]
  },
  {
   "cell_type": "code",
   "execution_count": 17,
   "id": "80db7e2e-1436-416f-8713-cf27070739d8",
   "metadata": {},
   "outputs": [
    {
     "data": {
      "image/png": "[encoded data removed]",
      "text/plain": [
       "<Figure size 640x480 with 1 Axes>"
      ]
     },
     "metadata": {},
     "output_type": "display_data"
    }
   ],
   "source": [
    "df.Category.value_counts().plot(kind='bar')\n",
    "plt.ylabel(\"Count\")\n",
    "plt.title(\"Distribution of Resume Category\");"
   ]
  },
  {
   "cell_type": "markdown",
   "id": "5a6d03f8-d56f-422a-9fc0-843cddf9067f",
   "metadata": {},
   "source": [
    "From the above plot and frequency count of Category column we can see that there is a class imbalance for Resume Category."
   ]
  },
  {
   "cell_type": "code",
   "execution_count": 18,
   "id": "b721834e-7209-4ce4-8f23-a8846dcf7777",
   "metadata": {},
   "outputs": [
    {
     "data": {
      "text/html": [
       "<div>\n",
       "<style scoped>\n",
       "    .dataframe tbody tr th:only-of-type {\n",
       "        vertical-align: middle;\n",
       "    }\n",
       "\n",
       "    .dataframe tbody tr th {\n",
       "        vertical-align: top;\n",
       "    }\n",
       "\n",
       "    .dataframe thead th {\n",
       "        text-align: right;\n",
       "    }\n",
       "</style>\n",
       "<table border=\"1\" class=\"dataframe\">\n",
       "  <thead>\n",
       "    <tr style=\"text-align: right;\">\n",
       "      <th></th>\n",
       "      <th>ID</th>\n",
       "      <th>Resume_str</th>\n",
       "      <th>Resume_html</th>\n",
       "      <th>Category</th>\n",
       "    </tr>\n",
       "  </thead>\n",
       "  <tbody>\n",
       "    <tr>\n",
       "      <th>0</th>\n",
       "      <td>16852973</td>\n",
       "      <td>Service Manager with 15+ years of experience ...</td>\n",
       "      <td>&lt;div class=\"fontsize fontface vmargins hmargin...</td>\n",
       "      <td>HR</td>\n",
       "    </tr>\n",
       "    <tr>\n",
       "      <th>1</th>\n",
       "      <td>22323967</td>\n",
       "      <td>ound in Communications, Marketing, Human Resou...</td>\n",
       "      <td>&lt;div class=\"fontsize fontface vmargins hmargin...</td>\n",
       "      <td>HR</td>\n",
       "    </tr>\n",
       "    <tr>\n",
       "      <th>2</th>\n",
       "      <td>33176873</td>\n",
       "      <td>uman Resources Executive Management,   5 years...</td>\n",
       "      <td>&lt;div class=\"fontsize fontface vmargins hmargin...</td>\n",
       "      <td>HR</td>\n",
       "    </tr>\n",
       "    <tr>\n",
       "      <th>3</th>\n",
       "      <td>27018550</td>\n",
       "      <td>r service expertise. Motivated to maintain cus...</td>\n",
       "      <td>&lt;div class=\"fontsize fontface vmargins hmargin...</td>\n",
       "      <td>HR</td>\n",
       "    </tr>\n",
       "    <tr>\n",
       "      <th>4</th>\n",
       "      <td>17812897</td>\n",
       "      <td>rganization Startups  Employment Law  FMLA/ADA...</td>\n",
       "      <td>&lt;div class=\"fontsize fontface vmargins hmargin...</td>\n",
       "      <td>HR</td>\n",
       "    </tr>\n",
       "  </tbody>\n",
       "</table>\n",
       "</div>"
      ],
      "text/plain": [
       "         ID                                         Resume_str  \\\n",
       "0  16852973   Service Manager with 15+ years of experience ...   \n",
       "1  22323967  ound in Communications, Marketing, Human Resou...   \n",
       "2  33176873  uman Resources Executive Management,   5 years...   \n",
       "3  27018550  r service expertise. Motivated to maintain cus...   \n",
       "4  17812897  rganization Startups  Employment Law  FMLA/ADA...   \n",
       "\n",
       "                                         Resume_html Category  \n",
       "0  <div class=\"fontsize fontface vmargins hmargin...       HR  \n",
       "1  <div class=\"fontsize fontface vmargins hmargin...       HR  \n",
       "2  <div class=\"fontsize fontface vmargins hmargin...       HR  \n",
       "3  <div class=\"fontsize fontface vmargins hmargin...       HR  \n",
       "4  <div class=\"fontsize fontface vmargins hmargin...       HR  "
      ]
     },
     "execution_count": 18,
     "metadata": {},
     "output_type": "execute_result"
    }
   ],
   "source": [
    "df.head()"
   ]
  },
  {
   "cell_type": "markdown",
   "id": "3fbb2fa1-7337-403b-94bd-f919f75eef41",
   "metadata": {},
   "source": [
    "## Text preprocessing"
   ]
  },
  {
   "cell_type": "code",
   "execution_count": 19,
   "id": "6fdb0aab-d5eb-455b-9b17-19d2625fa8ab",
   "metadata": {},
   "outputs": [],
   "source": [
    "porter = PorterStemmer()"
   ]
  },
  {
   "cell_type": "code",
   "execution_count": 20,
   "id": "fd3e40a5-8173-4a46-a6d0-1711f5094882",
   "metadata": {},
   "outputs": [],
   "source": [
    "stopwords_en = set(stopwords.words('english'))\n",
    "def text_preprocess(text):\n",
    "    # edge case\n",
    "    if not isinstance(text, str):\n",
    "        return ''\n",
    "    # strip whitespace\n",
    "    text = text.strip()\n",
    "    # tokenize\n",
    "    tokens = word_tokenize(text)\n",
    "    # convert to lowercase\n",
    "    tokens = [word.lower() for word in tokens]\n",
    "    # remove stopwords\n",
    "    words = [word for word in tokens if word not in stopwords_en]\n",
    "    # remove punctuation\n",
    "    words = [word for word in words if word.isalpha()]\n",
    "    # stem\n",
    "    words = [porter.stem(word) for word in words]\n",
    "    return ' '.join(words)\n",
    "# apply text preprocessing\n",
    "df['cleaned_resume'] = df['Resume_str'].apply(text_preprocess)"
   ]
  },
  {
   "cell_type": "code",
   "execution_count": 21,
   "id": "e7b4704b-9bd9-4f14-a1fc-2a0f59dbd02a",
   "metadata": {
    "scrolled": true
   },
   "outputs": [
    {
     "data": {
      "text/html": [
       "<div>\n",
       "<style scoped>\n",
       "    .dataframe tbody tr th:only-of-type {\n",
       "        vertical-align: middle;\n",
       "    }\n",
       "\n",
       "    .dataframe tbody tr th {\n",
       "        vertical-align: top;\n",
       "    }\n",
       "\n",
       "    .dataframe thead th {\n",
       "        text-align: right;\n",
       "    }\n",
       "</style>\n",
       "<table border=\"1\" class=\"dataframe\">\n",
       "  <thead>\n",
       "    <tr style=\"text-align: right;\">\n",
       "      <th></th>\n",
       "      <th>ID</th>\n",
       "      <th>Resume_str</th>\n",
       "      <th>Resume_html</th>\n",
       "      <th>Category</th>\n",
       "      <th>cleaned_resume</th>\n",
       "    </tr>\n",
       "  </thead>\n",
       "  <tbody>\n",
       "    <tr>\n",
       "      <th>0</th>\n",
       "      <td>16852973</td>\n",
       "      <td>Service Manager with 15+ years of experience ...</td>\n",
       "      <td>&lt;div class=\"fontsize fontface vmargins hmargin...</td>\n",
       "      <td>HR</td>\n",
       "      <td>servic manag year experi hospit custom servic ...</td>\n",
       "    </tr>\n",
       "    <tr>\n",
       "      <th>1</th>\n",
       "      <td>22323967</td>\n",
       "      <td>ound in Communications, Marketing, Human Resou...</td>\n",
       "      <td>&lt;div class=\"fontsize fontface vmargins hmargin...</td>\n",
       "      <td>HR</td>\n",
       "      <td>ound commun market human resourc technolog exp...</td>\n",
       "    </tr>\n",
       "    <tr>\n",
       "      <th>2</th>\n",
       "      <td>33176873</td>\n",
       "      <td>uman Resources Executive Management,   5 years...</td>\n",
       "      <td>&lt;div class=\"fontsize fontface vmargins hmargin...</td>\n",
       "      <td>HR</td>\n",
       "      <td>uman resourc execut manag year hri develop mai...</td>\n",
       "    </tr>\n",
       "    <tr>\n",
       "      <th>3</th>\n",
       "      <td>27018550</td>\n",
       "      <td>r service expertise. Motivated to maintain cus...</td>\n",
       "      <td>&lt;div class=\"fontsize fontface vmargins hmargin...</td>\n",
       "      <td>HR</td>\n",
       "      <td>r servic expertis motiv maintain custom satisf...</td>\n",
       "    </tr>\n",
       "    <tr>\n",
       "      <th>4</th>\n",
       "      <td>17812897</td>\n",
       "      <td>rganization Startups  Employment Law  FMLA/ADA...</td>\n",
       "      <td>&lt;div class=\"fontsize fontface vmargins hmargin...</td>\n",
       "      <td>HR</td>\n",
       "      <td>rganiz startup employ law mediat advocaci hr p...</td>\n",
       "    </tr>\n",
       "  </tbody>\n",
       "</table>\n",
       "</div>"
      ],
      "text/plain": [
       "         ID                                         Resume_str  \\\n",
       "0  16852973   Service Manager with 15+ years of experience ...   \n",
       "1  22323967  ound in Communications, Marketing, Human Resou...   \n",
       "2  33176873  uman Resources Executive Management,   5 years...   \n",
       "3  27018550  r service expertise. Motivated to maintain cus...   \n",
       "4  17812897  rganization Startups  Employment Law  FMLA/ADA...   \n",
       "\n",
       "                                         Resume_html Category  \\\n",
       "0  <div class=\"fontsize fontface vmargins hmargin...       HR   \n",
       "1  <div class=\"fontsize fontface vmargins hmargin...       HR   \n",
       "2  <div class=\"fontsize fontface vmargins hmargin...       HR   \n",
       "3  <div class=\"fontsize fontface vmargins hmargin...       HR   \n",
       "4  <div class=\"fontsize fontface vmargins hmargin...       HR   \n",
       "\n",
       "                                      cleaned_resume  \n",
       "0  servic manag year experi hospit custom servic ...  \n",
       "1  ound commun market human resourc technolog exp...  \n",
       "2  uman resourc execut manag year hri develop mai...  \n",
       "3  r servic expertis motiv maintain custom satisf...  \n",
       "4  rganiz startup employ law mediat advocaci hr p...  "
      ]
     },
     "execution_count": 21,
     "metadata": {},
     "output_type": "execute_result"
    }
   ],
   "source": [
    "df.head()"
   ]
  },
  {
   "cell_type": "markdown",
   "id": "42fd7d04-1727-45c9-80a2-f5cb565d3878",
   "metadata": {},
   "source": [
    "## Training, Validation and Test split"
   ]
  },
  {
   "cell_type": "code",
   "execution_count": 22,
   "id": "35178d0c-3d16-48cd-950d-be0020613ca3",
   "metadata": {},
   "outputs": [],
   "source": [
    "# seperate feature and target\n",
    "X = df.cleaned_resume\n",
    "y = df.Category"
   ]
  },
  {
   "cell_type": "code",
   "execution_count": 23,
   "id": "993bcd55-27e5-43b0-abb2-755eb314a292",
   "metadata": {},
   "outputs": [],
   "source": [
    "# check X and y shape"
   ]
  },
  {
   "cell_type": "code",
   "execution_count": 24,
   "id": "bd6ba54f-2001-47ee-b75c-65dd90236c12",
   "metadata": {},
   "outputs": [
    {
     "data": {
      "text/plain": [
       "(2484,)"
      ]
     },
     "execution_count": 24,
     "metadata": {},
     "output_type": "execute_result"
    }
   ],
   "source": [
    "X.shape"
   ]
  },
  {
   "cell_type": "code",
   "execution_count": 25,
   "id": "6f17d367-8688-4924-b9d7-e81c6ddcad34",
   "metadata": {},
   "outputs": [
    {
     "data": {
      "text/plain": [
       "(2484,)"
      ]
     },
     "execution_count": 25,
     "metadata": {},
     "output_type": "execute_result"
    }
   ],
   "source": [
    "y.shape"
   ]
  },
  {
   "cell_type": "markdown",
   "id": "d93d9681-4ee7-4435-812d-4e1cbd0e8457",
   "metadata": {},
   "source": [
    "70% train, 15% valid, 15% test split"
   ]
  },
  {
   "cell_type": "code",
   "execution_count": 26,
   "id": "6b874a12-5ebd-4468-abbe-4b20a147fd06",
   "metadata": {},
   "outputs": [],
   "source": [
    "X_train, X_test, y_train, y_test = train_test_split(X, y, train_size=0.85, random_state=42, stratify = y)\n",
    "X_train, X_valid, y_train, y_valid = train_test_split(X_train, y_train, test_size=100/85*0.15, random_state=42, stratify = y_train) # 0.25 x 0.8 = 0.2"
   ]
  },
  {
   "cell_type": "code",
   "execution_count": 27,
   "id": "bd6112b3-3688-487c-a92c-6de33347f7db",
   "metadata": {},
   "outputs": [
    {
     "data": {
      "text/plain": [
       "(1738,)"
      ]
     },
     "execution_count": 27,
     "metadata": {},
     "output_type": "execute_result"
    }
   ],
   "source": [
    "X_train.shape"
   ]
  },
  {
   "cell_type": "code",
   "execution_count": 28,
   "id": "d05b0e48-a266-48f4-8443-c6cb06a538c8",
   "metadata": {},
   "outputs": [
    {
     "data": {
      "text/plain": [
       "(373,)"
      ]
     },
     "execution_count": 28,
     "metadata": {},
     "output_type": "execute_result"
    }
   ],
   "source": [
    "X_test.shape"
   ]
  },
  {
   "cell_type": "code",
   "execution_count": 29,
   "id": "f3a4f1cd-000b-4b38-9a10-953904208fa5",
   "metadata": {},
   "outputs": [
    {
     "data": {
      "text/plain": [
       "(373,)"
      ]
     },
     "execution_count": 29,
     "metadata": {},
     "output_type": "execute_result"
    }
   ],
   "source": [
    "X_valid.shape"
   ]
  },
  {
   "cell_type": "code",
   "execution_count": 30,
   "id": "73438988-1471-45e6-8693-2cda58fdcbd5",
   "metadata": {},
   "outputs": [],
   "source": [
    "# source: https://scikit-learn.org/stable/auto_examples/text/plot_document_classification_20newsgroups.html"
   ]
  },
  {
   "cell_type": "markdown",
   "id": "04b3de3a-53b9-4c8d-8498-ef8a9d7f1114",
   "metadata": {},
   "source": [
    "# Baseline Model"
   ]
  },
  {
   "cell_type": "markdown",
   "id": "84c17437-cc21-4152-887b-b5dac4e37c30",
   "metadata": {},
   "source": [
    "## Prepare Data"
   ]
  },
  {
   "cell_type": "markdown",
   "id": "ac7d3976-42f5-4464-915d-5c6d0e53845e",
   "metadata": {},
   "source": [
    "## Using unigram only"
   ]
  },
  {
   "cell_type": "code",
   "execution_count": 31,
   "id": "f284480b-e2e2-42b7-a1f2-43ae152f4c4e",
   "metadata": {},
   "outputs": [
    {
     "data": {
      "image/png": "[encoded data removed]",
      "text/plain": [
       "<Figure size 1000x500 with 2 Axes>"
      ]
     },
     "metadata": {},
     "output_type": "display_data"
    }
   ],
   "source": [
    "vectorizer = TfidfVectorizer(\n",
    "        sublinear_tf=True, max_df=0.5, min_df=5, stop_words=\"english\"\n",
    "    )\n",
    "\n",
    "X_train = vectorizer.fit_transform(X_train)\n",
    "\n",
    "X_valid = vectorizer.transform(X_valid)\n",
    "X_test = vectorizer.transform(X_test)\n",
    "\n",
    "\n",
    "clf = RidgeClassifier(tol=1e-2, solver=\"sparse_cg\")\n",
    "clf.fit(X_train, y_train)\n",
    "pred = clf.predict(X_test)\n",
    "\n",
    "len(set(pred))\n",
    "\n",
    "target_names = set(df.Category)\n",
    "\n",
    "fig, ax = plt.subplots(figsize=(10, 5))\n",
    "ConfusionMatrixDisplay.from_predictions(y_test, pred, ax=ax)\n",
    "ax.xaxis.set_ticklabels(target_names)\n",
    "ax.yaxis.set_ticklabels(target_names)\n",
    "_ = ax.set_title(\n",
    "    f\"Confusion Matrix for {clf.__class__.__name__}\\non the original documents\"\n",
    ")"
   ]
  },
  {
   "cell_type": "markdown",
   "id": "28ea15d4-59ff-48a1-bcf0-40d604fa26de",
   "metadata": {},
   "source": [
    "### Evaluation"
   ]
  },
  {
   "cell_type": "code",
   "execution_count": 32,
   "id": "99826442-add6-4628-9d45-324c84d33628",
   "metadata": {},
   "outputs": [],
   "source": [
    "## Acuracy, Precision, Recall, F1-Score"
   ]
  },
  {
   "cell_type": "code",
   "execution_count": 33,
   "id": "37f31aac-ad64-4e22-bf28-271be6c7dd14",
   "metadata": {},
   "outputs": [
    {
     "name": "stderr",
     "output_type": "stream",
     "text": [
      "/home/ranamahmud/Documents/venv/lib/python3.10/site-packages/sklearn/metrics/_classification.py:1531: UndefinedMetricWarning: Precision is ill-defined and being set to 0.0 in labels with no predicted samples. Use `zero_division` parameter to control this behavior.\n",
      "  _warn_prf(average, modifier, f\"{metric.capitalize()} is\", len(result))\n",
      "/home/ranamahmud/Documents/venv/lib/python3.10/site-packages/sklearn/metrics/_classification.py:1531: UndefinedMetricWarning: Precision is ill-defined and being set to 0.0 in labels with no predicted samples. Use `zero_division` parameter to control this behavior.\n",
      "  _warn_prf(average, modifier, f\"{metric.capitalize()} is\", len(result))\n"
     ]
    },
    {
     "name": "stdout",
     "output_type": "stream",
     "text": [
      "0.6342490350994607\n",
      "0.6407506702412868\n",
      "0.6456355917728854\n",
      "0.6040324463118582\n",
      "0.6407506702412868\n",
      "0.6407506702412868\n",
      "0.5898149735787493\n",
      "0.6407506702412868\n",
      "0.6204810039874485\n",
      "================================================================================\n",
      "Logistic Regression\n",
      "________________________________________________________________________________\n",
      "Training: \n",
      "LogisticRegression(C=5, max_iter=1000)\n",
      "train time: 7.44s\n",
      "test time:  0.0108s\n",
      "accuracy:   0.633\n",
      "f1_score macro:   0.587\n",
      "f1_score micro:   0.633\n",
      "f1_score weighted:   0.615\n",
      "dimensionality: 5371\n",
      "density: 1.0\n",
      "\n",
      "\n",
      "================================================================================\n",
      "Ridge Classifier\n",
      "________________________________________________________________________________\n",
      "Training: \n",
      "RidgeClassifier(solver='sparse_cg')\n",
      "train time: 0.29s\n",
      "test time:  0.00105s\n",
      "accuracy:   0.641\n",
      "f1_score macro:   0.59\n",
      "f1_score micro:   0.641\n",
      "f1_score weighted:   0.62\n",
      "dimensionality: 5371\n",
      "density: 1.0\n",
      "\n",
      "\n",
      "================================================================================\n",
      "kNN\n",
      "________________________________________________________________________________\n",
      "Training: \n",
      "KNeighborsClassifier(n_neighbors=100)\n",
      "train time: 0.00188s\n",
      "test time:  0.0383s\n",
      "accuracy:   0.501\n",
      "f1_score macro:   0.429\n",
      "f1_score micro:   0.501\n",
      "f1_score weighted:   0.462\n",
      "\n",
      "================================================================================\n",
      "Random Forest\n",
      "________________________________________________________________________________\n",
      "Training: \n",
      "RandomForestClassifier()\n",
      "train time: 1.28s\n",
      "test time:  0.0125s\n",
      "accuracy:   0.638\n",
      "f1_score macro:   0.583\n",
      "f1_score micro:   0.638\n",
      "f1_score weighted:   0.616\n",
      "\n",
      "================================================================================\n",
      "Linear SVC\n",
      "________________________________________________________________________________\n",
      "Training: \n",
      "LinearSVC(C=0.1, dual=False)\n",
      "train time: 0.181s\n",
      "test time:  0.000578s\n",
      "accuracy:   0.601\n",
      "f1_score macro:   0.542\n",
      "f1_score micro:   0.601\n",
      "f1_score weighted:   0.569\n",
      "dimensionality: 5371\n",
      "density: 1.0\n",
      "\n",
      "\n",
      "================================================================================\n",
      "log-loss SGD\n",
      "________________________________________________________________________________\n",
      "Training: \n",
      "SGDClassifier(early_stopping=True, loss='log_loss', n_iter_no_change=3)\n",
      "train time: 0.067s\n",
      "test time:  0.000533s\n",
      "accuracy:   0.603\n",
      "f1_score macro:   0.56\n",
      "f1_score micro:   0.603\n",
      "f1_score weighted:   0.589\n",
      "dimensionality: 5371\n",
      "density: 1.0\n",
      "\n",
      "\n",
      "================================================================================\n",
      "NearestCentroid\n",
      "________________________________________________________________________________\n",
      "Training: \n",
      "NearestCentroid()\n",
      "train time: 0.00379s\n",
      "test time:  0.0137s\n",
      "accuracy:   0.571\n",
      "f1_score macro:   0.551\n",
      "f1_score micro:   0.571\n",
      "f1_score weighted:   0.568\n",
      "\n",
      "================================================================================\n",
      "Complement naive Bayes\n",
      "________________________________________________________________________________\n",
      "Training: \n",
      "ComplementNB(alpha=0.1)\n",
      "train time: 0.00453s\n",
      "test time:  0.000443s\n",
      "accuracy:   0.574\n",
      "f1_score macro:   0.519\n",
      "f1_score micro:   0.574\n",
      "f1_score weighted:   0.543\n",
      "\n"
     ]
    }
   ],
   "source": [
    "accuracy_score(y_test, pred)\n",
    "\n",
    "\n",
    "print(precision_score(y_test, pred, average='macro'))\n",
    "print(precision_score(y_test, pred, average='micro'))\n",
    "print(precision_score(y_test, pred, average='weighted'))\n",
    "\n",
    "\n",
    "print(recall_score(y_test, pred, average='macro'))\n",
    "print(recall_score(y_test, pred, average='micro'))\n",
    "print(recall_score(y_test, pred, average='weighted'))\n",
    "\n",
    "\n",
    "print(f1_score(y_test, pred, average='macro'))\n",
    "print(f1_score(y_test, pred, average='micro'))\n",
    "print(f1_score(y_test, pred, average='weighted'))\n",
    "\n",
    "def benchmark(clf, custom_name=False):\n",
    "    print(\"_\" * 80)\n",
    "    print(\"Training: \")\n",
    "    print(clf)\n",
    "    t0 = time()\n",
    "    clf.fit(X_train, y_train)\n",
    "    train_time = time() - t0\n",
    "    print(f\"train time: {train_time:.3}s\")\n",
    "\n",
    "    t0 = time()\n",
    "    pred = clf.predict(X_test)\n",
    "    test_time = time() - t0\n",
    "    print(f\"test time:  {test_time:.3}s\")\n",
    "\n",
    "    score = metrics.accuracy_score(y_test, pred)\n",
    "    print(f\"accuracy:   {score:.3}\")\n",
    "    f1_score_macro = f1_score(y_test, pred, average='macro')\n",
    "    f1_score_micro = f1_score(y_test, pred, average='micro')\n",
    "    f1_score_weighted = f1_score(y_test, pred, average='weighted')\n",
    "    print(f\"f1_score macro:   {f1_score_macro:.3}\")\n",
    "    print(f\"f1_score micro:   {f1_score_micro:.3}\")\n",
    "    print(f\"f1_score weighted:   {f1_score_weighted:.3}\")\n",
    "    \n",
    "    \n",
    "    if hasattr(clf, \"coef_\"):\n",
    "        print(f\"dimensionality: {clf.coef_.shape[1]}\")\n",
    "        print(f\"density: {density(clf.coef_)}\")\n",
    "        print()\n",
    "\n",
    "    print()\n",
    "    if custom_name:\n",
    "        clf_descr = str(custom_name)\n",
    "    else:\n",
    "        clf_descr = clf.__class__.__name__\n",
    "    return clf_descr, score, train_time, test_time\n",
    "results = []\n",
    "for clf, name in (\n",
    "    (LogisticRegression(C=5, max_iter=1000), \"Logistic Regression\"),\n",
    "    (RidgeClassifier(alpha=1.0, solver=\"sparse_cg\"), \"Ridge Classifier\"),\n",
    "    (KNeighborsClassifier(n_neighbors=100), \"kNN\"),\n",
    "    (RandomForestClassifier(), \"Random Forest\"),\n",
    "    # L2 penalty Linear SVC\n",
    "    (LinearSVC(C=0.1, dual=False, max_iter=1000), \"Linear SVC\"),\n",
    "    # L2 penalty Linear SGD\n",
    "    (\n",
    "        SGDClassifier(\n",
    "            loss=\"log_loss\", alpha=1e-4, n_iter_no_change=3, early_stopping=True\n",
    "        ),\n",
    "        \"log-loss SGD\",\n",
    "    ),\n",
    "    # NearestCentroid (aka Rocchio classifier)\n",
    "    (NearestCentroid(), \"NearestCentroid\"),\n",
    "    # Sparse naive Bayes classifier\n",
    "    (ComplementNB(alpha=0.1), \"Complement naive Bayes\"),\n",
    "):\n",
    "    print(\"=\" * 80)\n",
    "    print(name)\n",
    "    results.append(benchmark(clf, name))"
   ]
  },
  {
   "cell_type": "markdown",
   "id": "4ad2a10a-25e6-41aa-b8fb-440b50556cb8",
   "metadata": {},
   "source": [
    "## Using Bigram"
   ]
  },
  {
   "cell_type": "code",
   "execution_count": 34,
   "id": "5a23480e-a3d1-4977-966c-8f14de2cc696",
   "metadata": {},
   "outputs": [
    {
     "data": {
      "image/png": "[encoded data removed]",
      "text/plain": [
       "<Figure size 1000x500 with 2 Axes>"
      ]
     },
     "metadata": {},
     "output_type": "display_data"
    }
   ],
   "source": [
    "vectorizer = TfidfVectorizer(\n",
    "        sublinear_tf=True,  min_df=5,ngram_range=(1,2), stop_words=\"english\"\n",
    "    )\n",
    "clf = RidgeClassifier(tol=1e-2, solver=\"sparse_cg\")\n",
    "clf.fit(X_train, y_train)\n",
    "pred = clf.predict(X_test)\n",
    "\n",
    "len(set(pred))\n",
    "\n",
    "target_names = set(df.Category)\n",
    "\n",
    "fig, ax = plt.subplots(figsize=(10, 5))\n",
    "ConfusionMatrixDisplay.from_predictions(y_test, pred, ax=ax)\n",
    "ax.xaxis.set_ticklabels(target_names)\n",
    "ax.yaxis.set_ticklabels(target_names)\n",
    "_ = ax.set_title(\n",
    "    f\"Confusion Matrix for {clf.__class__.__name__}\\non the original documents\"\n",
    ")"
   ]
  },
  {
   "cell_type": "code",
   "execution_count": 35,
   "id": "9f512ab8-5400-47d0-9d23-96c78cd36ad1",
   "metadata": {},
   "outputs": [
    {
     "name": "stderr",
     "output_type": "stream",
     "text": [
      "/home/ranamahmud/Documents/venv/lib/python3.10/site-packages/sklearn/metrics/_classification.py:1531: UndefinedMetricWarning: Precision is ill-defined and being set to 0.0 in labels with no predicted samples. Use `zero_division` parameter to control this behavior.\n",
      "  _warn_prf(average, modifier, f\"{metric.capitalize()} is\", len(result))\n",
      "/home/ranamahmud/Documents/venv/lib/python3.10/site-packages/sklearn/metrics/_classification.py:1531: UndefinedMetricWarning: Precision is ill-defined and being set to 0.0 in labels with no predicted samples. Use `zero_division` parameter to control this behavior.\n",
      "  _warn_prf(average, modifier, f\"{metric.capitalize()} is\", len(result))\n"
     ]
    },
    {
     "name": "stdout",
     "output_type": "stream",
     "text": [
      "0.6342490350994607\n",
      "0.6407506702412868\n",
      "0.6456355917728854\n",
      "0.6040324463118582\n",
      "0.6407506702412868\n",
      "0.6407506702412868\n",
      "0.5898149735787493\n",
      "0.6407506702412868\n",
      "0.6204810039874485\n",
      "================================================================================\n",
      "Logistic Regression\n",
      "________________________________________________________________________________\n",
      "Training: \n",
      "LogisticRegression(C=5, max_iter=1000)\n",
      "train time: 8.15s\n",
      "test time:  0.0124s\n",
      "accuracy:   0.633\n",
      "f1_score macro:   0.587\n",
      "f1_score micro:   0.633\n",
      "f1_score weighted:   0.615\n",
      "dimensionality: 5371\n",
      "density: 1.0\n",
      "\n",
      "\n",
      "================================================================================\n",
      "Ridge Classifier\n",
      "________________________________________________________________________________\n",
      "Training: \n",
      "RidgeClassifier(solver='sparse_cg')\n",
      "train time: 0.194s\n",
      "test time:  0.000633s\n",
      "accuracy:   0.641\n",
      "f1_score macro:   0.59\n",
      "f1_score micro:   0.641\n",
      "f1_score weighted:   0.62\n",
      "dimensionality: 5371\n",
      "density: 1.0\n",
      "\n",
      "\n",
      "================================================================================\n",
      "kNN\n",
      "________________________________________________________________________________\n",
      "Training: \n",
      "KNeighborsClassifier(n_neighbors=100)\n",
      "train time: 0.00111s\n",
      "test time:  0.0284s\n",
      "accuracy:   0.501\n",
      "f1_score macro:   0.429\n",
      "f1_score micro:   0.501\n",
      "f1_score weighted:   0.462\n",
      "\n",
      "================================================================================\n",
      "Random Forest\n",
      "________________________________________________________________________________\n",
      "Training: \n",
      "RandomForestClassifier()\n",
      "train time: 1.27s\n",
      "test time:  0.0125s\n",
      "accuracy:   0.633\n",
      "f1_score macro:   0.578\n",
      "f1_score micro:   0.633\n",
      "f1_score weighted:   0.61\n",
      "\n",
      "================================================================================\n",
      "Linear SVC\n",
      "________________________________________________________________________________\n",
      "Training: \n",
      "LinearSVC(C=0.1, dual=False)\n",
      "train time: 0.169s\n",
      "test time:  0.000567s\n",
      "accuracy:   0.601\n",
      "f1_score macro:   0.542\n",
      "f1_score micro:   0.601\n",
      "f1_score weighted:   0.569\n",
      "dimensionality: 5371\n",
      "density: 1.0\n",
      "\n",
      "\n",
      "================================================================================\n",
      "log-loss SGD\n",
      "________________________________________________________________________________\n",
      "Training: \n",
      "SGDClassifier(early_stopping=True, loss='log_loss', n_iter_no_change=3)\n",
      "train time: 0.0702s\n",
      "test time:  0.000627s\n",
      "accuracy:   0.654\n",
      "f1_score macro:   0.616\n",
      "f1_score micro:   0.654\n",
      "f1_score weighted:   0.646\n",
      "dimensionality: 5371\n",
      "density: 1.0\n",
      "\n",
      "\n",
      "================================================================================\n",
      "NearestCentroid\n",
      "________________________________________________________________________________\n",
      "Training: \n",
      "NearestCentroid()\n",
      "train time: 0.00387s\n",
      "test time:  0.00238s\n",
      "accuracy:   0.571\n",
      "f1_score macro:   0.551\n",
      "f1_score micro:   0.571\n",
      "f1_score weighted:   0.568\n",
      "\n",
      "================================================================================\n",
      "Complement naive Bayes\n",
      "________________________________________________________________________________\n",
      "Training: \n",
      "ComplementNB(alpha=0.1)\n",
      "train time: 0.0068s\n",
      "test time:  0.000443s\n",
      "accuracy:   0.574\n",
      "f1_score macro:   0.519\n",
      "f1_score micro:   0.574\n",
      "f1_score weighted:   0.543\n",
      "\n"
     ]
    }
   ],
   "source": [
    "# Evaluation\n",
    "\n",
    "## Acuracy, Precision, Recall, F1-Score\n",
    "\n",
    "\n",
    "\n",
    "accuracy_score(y_test, pred)\n",
    "\n",
    "print(precision_score(y_test, pred, average='macro'))\n",
    "print(precision_score(y_test, pred, average='micro'))\n",
    "print(precision_score(y_test, pred, average='weighted'))\n",
    "\n",
    "\n",
    "print(recall_score(y_test, pred, average='macro'))\n",
    "print(recall_score(y_test, pred, average='micro'))\n",
    "print(recall_score(y_test, pred, average='weighted'))\n",
    "\n",
    "\n",
    "print(f1_score(y_test, pred, average='macro'))\n",
    "print(f1_score(y_test, pred, average='micro'))\n",
    "print(f1_score(y_test, pred, average='weighted'))\n",
    "\n",
    "# Benchmarking classifiers\n",
    "\n",
    "\n",
    "\n",
    "\n",
    "\n",
    "results = []\n",
    "for clf, name in (\n",
    "    (LogisticRegression(C=5, max_iter=1000), \"Logistic Regression\"),\n",
    "    (RidgeClassifier(alpha=1.0, solver=\"sparse_cg\"), \"Ridge Classifier\"),\n",
    "    (KNeighborsClassifier(n_neighbors=100), \"kNN\"),\n",
    "    (RandomForestClassifier(), \"Random Forest\"),\n",
    "    # L2 penalty Linear SVC\n",
    "    (LinearSVC(C=0.1, dual=False, max_iter=1000), \"Linear SVC\"),\n",
    "    # L2 penalty Linear SGD\n",
    "    (\n",
    "        SGDClassifier(\n",
    "            loss=\"log_loss\", alpha=1e-4, n_iter_no_change=3, early_stopping=True\n",
    "        ),\n",
    "        \"log-loss SGD\",\n",
    "    ),\n",
    "    # NearestCentroid (aka Rocchio classifier)\n",
    "    (NearestCentroid(), \"NearestCentroid\"),\n",
    "    # Sparse naive Bayes classifier\n",
    "    (ComplementNB(alpha=0.1), \"Complement naive Bayes\"),\n",
    "):\n",
    "    print(\"=\" * 80)\n",
    "    print(name)\n",
    "    results.append(benchmark(clf, name))"
   ]
  },
  {
   "cell_type": "markdown",
   "id": "ce372606-8824-4f4e-8c13-680109bce025",
   "metadata": {},
   "source": [
    "From the unigram and bigram model we fitted the following models in our data for classifying resumes. But didn't got good performance. LogisticRegression, RidgeClassifier, KNeighborsClassifier,RandomForestClassifier,LinearSVC,SGDClassifier,NearestCentroid,ComplementNB\n",
    "We didn't good performance for classifying Resume as all the models had accuracy, f1 score less than 0.70."
   ]
  },
  {
   "cell_type": "markdown",
   "id": "4761b55c-51e5-4074-b945-4cf8f19d54bd",
   "metadata": {},
   "source": [
    "# distilbert-base-uncased"
   ]
  },
  {
   "cell_type": "code",
   "execution_count": 36,
   "id": "2607e126-f52c-41f4-bdad-5d5578a3e793",
   "metadata": {},
   "outputs": [],
   "source": [
    "# %pip install transformers\n",
    "# %pip install torch torchvision torchaudio --index-url https://download.pytorch.org/whl/cu118\n",
    "# %pip install ipywidgets"
   ]
  },
  {
   "cell_type": "code",
   "execution_count": 37,
   "id": "2815786a-4ae8-4baf-8741-d2ba332d1bf0",
   "metadata": {},
   "outputs": [
    {
     "name": "stderr",
     "output_type": "stream",
     "text": [
      "/home/ranamahmud/Documents/venv/lib/python3.10/site-packages/transformers/tokenization_utils_base.py:1601: FutureWarning: `clean_up_tokenization_spaces` was not set. It will be set to `True` by default. This behavior will be depracted in transformers v4.45, and will be then set to `False` by default. For more details check this issue: https://github.com/huggingface/transformers/issues/31884\n",
      "  warnings.warn(\n"
     ]
    }
   ],
   "source": [
    "from transformers import AutoTokenizer\n",
    "\n",
    "tokenizer = AutoTokenizer.from_pretrained(\"distilbert/distilbert-base-uncased\")"
   ]
  },
  {
   "cell_type": "code",
   "execution_count": 38,
   "id": "3404861c-2aeb-4594-bcfd-51ec012d2d56",
   "metadata": {},
   "outputs": [],
   "source": [
    "def preprocess_function(text):\n",
    "    return tokenizer(text, truncation=True)"
   ]
  },
  {
   "cell_type": "code",
   "execution_count": 39,
   "id": "0a61180d-5fa3-4bae-9eb0-3d19b86e8adc",
   "metadata": {},
   "outputs": [
    {
     "data": {
      "text/plain": [
       "0        Service Manager with 15+ years of experience ...\n",
       "1       ound in Communications, Marketing, Human Resou...\n",
       "2       uman Resources Executive Management,   5 years...\n",
       "3       r service expertise. Motivated to maintain cus...\n",
       "4       rganization Startups  Employment Law  FMLA/ADA...\n",
       "                              ...                        \n",
       "2479    Motivated logistics specialist, successful at ...\n",
       "2480    onal Summary    Strategically grounded, highly...\n",
       "2481    ss multiple disciplines including technical\\ns...\n",
       "2482    sional with 9 plus years of experience in admi...\n",
       "2483    sponsible career position that fully utilizes ...\n",
       "Name: Resume_str, Length: 2484, dtype: object"
      ]
     },
     "execution_count": 39,
     "metadata": {},
     "output_type": "execute_result"
    }
   ],
   "source": [
    " df['Resume_str']"
   ]
  },
  {
   "cell_type": "code",
   "execution_count": 40,
   "id": "4bf43b76-3ed4-4819-b207-0029892e7e6d",
   "metadata": {},
   "outputs": [],
   "source": [
    "tokenized_resume = df['Resume_str'].apply(lambda text: tokenizer(text, truncation=True))"
   ]
  },
  {
   "cell_type": "code",
   "execution_count": 41,
   "id": "b6f17036-3b8b-4658-97f2-2f625f790c27",
   "metadata": {},
   "outputs": [
    {
     "data": {
      "text/plain": [
       "0       [input_ids, attention_mask]\n",
       "1       [input_ids, attention_mask]\n",
       "2       [input_ids, attention_mask]\n",
       "3       [input_ids, attention_mask]\n",
       "4       [input_ids, attention_mask]\n",
       "                   ...             \n",
       "2479    [input_ids, attention_mask]\n",
       "2480    [input_ids, attention_mask]\n",
       "2481    [input_ids, attention_mask]\n",
       "2482    [input_ids, attention_mask]\n",
       "2483    [input_ids, attention_mask]\n",
       "Name: Resume_str, Length: 2484, dtype: object"
      ]
     },
     "execution_count": 41,
     "metadata": {},
     "output_type": "execute_result"
    }
   ],
   "source": [
    "tokenized_resume"
   ]
  },
  {
   "cell_type": "code",
   "execution_count": 42,
   "id": "acbd293d-1794-4e06-bfe2-84e3c5c3b8ee",
   "metadata": {},
   "outputs": [],
   "source": [
    "# %pip install evaluate"
   ]
  },
  {
   "cell_type": "code",
   "execution_count": 43,
   "id": "9eaa4929-b512-4875-8bbd-93a64a744cae",
   "metadata": {},
   "outputs": [],
   "source": [
    "import evaluate\n",
    "accuracy = evaluate.load(\"accuracy\")"
   ]
  },
  {
   "cell_type": "code",
   "execution_count": 44,
   "id": "129421c4-fff3-4b5d-bc46-68c423c8f4e7",
   "metadata": {},
   "outputs": [],
   "source": [
    "categories = df.Category.unique()\n",
    "id2label = {label: idx for idx, label in enumerate(categories)}\n",
    "label2id = {idx: label for idx, label in enumerate(categories)}"
   ]
  },
  {
   "cell_type": "code",
   "execution_count": 45,
   "id": "8b2eb913-7a80-4b35-9071-a94f8d966659",
   "metadata": {},
   "outputs": [
    {
     "data": {
      "text/plain": [
       "{'HR': 0,\n",
       " 'DESIGNER': 1,\n",
       " 'INFORMATION-TECHNOLOGY': 2,\n",
       " 'TEACHER': 3,\n",
       " 'ADVOCATE': 4,\n",
       " 'BUSINESS-DEVELOPMENT': 5,\n",
       " 'HEALTHCARE': 6,\n",
       " 'FITNESS': 7,\n",
       " 'AGRICULTURE': 8,\n",
       " 'BPO': 9,\n",
       " 'SALES': 10,\n",
       " 'CONSULTANT': 11,\n",
       " 'DIGITAL-MEDIA': 12,\n",
       " 'AUTOMOBILE': 13,\n",
       " 'CHEF': 14,\n",
       " 'FINANCE': 15,\n",
       " 'APPAREL': 16,\n",
       " 'ENGINEERING': 17,\n",
       " 'ACCOUNTANT': 18,\n",
       " 'CONSTRUCTION': 19,\n",
       " 'PUBLIC-RELATIONS': 20,\n",
       " 'BANKING': 21,\n",
       " 'ARTS': 22,\n",
       " 'AVIATION': 23}"
      ]
     },
     "execution_count": 45,
     "metadata": {},
     "output_type": "execute_result"
    }
   ],
   "source": [
    "id2label"
   ]
  },
  {
   "cell_type": "code",
   "execution_count": 46,
   "id": "1afe43dc-a51c-4dbe-93ef-2041ce358fa4",
   "metadata": {},
   "outputs": [],
   "source": [
    "# save id2label to json\n",
    "with open('id2label.json', 'w') as json_file:\n",
    "    json.dump(id2label, json_file, indent=4)"
   ]
  },
  {
   "cell_type": "code",
   "execution_count": 47,
   "id": "85780baf-09d6-4e95-81c3-e96d5cd3019a",
   "metadata": {},
   "outputs": [
    {
     "data": {
      "text/plain": [
       "{0: 'HR',\n",
       " 1: 'DESIGNER',\n",
       " 2: 'INFORMATION-TECHNOLOGY',\n",
       " 3: 'TEACHER',\n",
       " 4: 'ADVOCATE',\n",
       " 5: 'BUSINESS-DEVELOPMENT',\n",
       " 6: 'HEALTHCARE',\n",
       " 7: 'FITNESS',\n",
       " 8: 'AGRICULTURE',\n",
       " 9: 'BPO',\n",
       " 10: 'SALES',\n",
       " 11: 'CONSULTANT',\n",
       " 12: 'DIGITAL-MEDIA',\n",
       " 13: 'AUTOMOBILE',\n",
       " 14: 'CHEF',\n",
       " 15: 'FINANCE',\n",
       " 16: 'APPAREL',\n",
       " 17: 'ENGINEERING',\n",
       " 18: 'ACCOUNTANT',\n",
       " 19: 'CONSTRUCTION',\n",
       " 20: 'PUBLIC-RELATIONS',\n",
       " 21: 'BANKING',\n",
       " 22: 'ARTS',\n",
       " 23: 'AVIATION'}"
      ]
     },
     "execution_count": 47,
     "metadata": {},
     "output_type": "execute_result"
    }
   ],
   "source": [
    "label2id"
   ]
  },
  {
   "cell_type": "code",
   "execution_count": 48,
   "id": "7a4450aa-5e79-4201-b5a3-0d34988002b0",
   "metadata": {},
   "outputs": [],
   "source": [
    "# conda install pytorch torchvision torchaudio pytorch-cuda=11.8 -c pytorch -c nvidia"
   ]
  },
  {
   "cell_type": "code",
   "execution_count": 49,
   "id": "748e5775-110a-42fe-a638-c528987c6c2d",
   "metadata": {},
   "outputs": [],
   "source": [
    "# %pip install transformers[torch]"
   ]
  },
  {
   "cell_type": "code",
   "execution_count": 50,
   "id": "f282dec8-6a64-4cbb-9eae-da72c82e8527",
   "metadata": {},
   "outputs": [],
   "source": [
    "# %pip install accelerate -U\n",
    "# %pip install transformers[torch]"
   ]
  },
  {
   "cell_type": "code",
   "execution_count": 51,
   "id": "140a0b89-a1e7-4033-a6e2-c17edc122a33",
   "metadata": {},
   "outputs": [
    {
     "data": {
      "text/html": [
       "<div>\n",
       "<style scoped>\n",
       "    .dataframe tbody tr th:only-of-type {\n",
       "        vertical-align: middle;\n",
       "    }\n",
       "\n",
       "    .dataframe tbody tr th {\n",
       "        vertical-align: top;\n",
       "    }\n",
       "\n",
       "    .dataframe thead th {\n",
       "        text-align: right;\n",
       "    }\n",
       "</style>\n",
       "<table border=\"1\" class=\"dataframe\">\n",
       "  <thead>\n",
       "    <tr style=\"text-align: right;\">\n",
       "      <th></th>\n",
       "      <th>ID</th>\n",
       "      <th>Resume_str</th>\n",
       "      <th>Resume_html</th>\n",
       "      <th>Category</th>\n",
       "      <th>cleaned_resume</th>\n",
       "    </tr>\n",
       "  </thead>\n",
       "  <tbody>\n",
       "    <tr>\n",
       "      <th>0</th>\n",
       "      <td>16852973</td>\n",
       "      <td>Service Manager with 15+ years of experience ...</td>\n",
       "      <td>&lt;div class=\"fontsize fontface vmargins hmargin...</td>\n",
       "      <td>HR</td>\n",
       "      <td>servic manag year experi hospit custom servic ...</td>\n",
       "    </tr>\n",
       "    <tr>\n",
       "      <th>1</th>\n",
       "      <td>22323967</td>\n",
       "      <td>ound in Communications, Marketing, Human Resou...</td>\n",
       "      <td>&lt;div class=\"fontsize fontface vmargins hmargin...</td>\n",
       "      <td>HR</td>\n",
       "      <td>ound commun market human resourc technolog exp...</td>\n",
       "    </tr>\n",
       "    <tr>\n",
       "      <th>2</th>\n",
       "      <td>33176873</td>\n",
       "      <td>uman Resources Executive Management,   5 years...</td>\n",
       "      <td>&lt;div class=\"fontsize fontface vmargins hmargin...</td>\n",
       "      <td>HR</td>\n",
       "      <td>uman resourc execut manag year hri develop mai...</td>\n",
       "    </tr>\n",
       "    <tr>\n",
       "      <th>3</th>\n",
       "      <td>27018550</td>\n",
       "      <td>r service expertise. Motivated to maintain cus...</td>\n",
       "      <td>&lt;div class=\"fontsize fontface vmargins hmargin...</td>\n",
       "      <td>HR</td>\n",
       "      <td>r servic expertis motiv maintain custom satisf...</td>\n",
       "    </tr>\n",
       "    <tr>\n",
       "      <th>4</th>\n",
       "      <td>17812897</td>\n",
       "      <td>rganization Startups  Employment Law  FMLA/ADA...</td>\n",
       "      <td>&lt;div class=\"fontsize fontface vmargins hmargin...</td>\n",
       "      <td>HR</td>\n",
       "      <td>rganiz startup employ law mediat advocaci hr p...</td>\n",
       "    </tr>\n",
       "  </tbody>\n",
       "</table>\n",
       "</div>"
      ],
      "text/plain": [
       "         ID                                         Resume_str  \\\n",
       "0  16852973   Service Manager with 15+ years of experience ...   \n",
       "1  22323967  ound in Communications, Marketing, Human Resou...   \n",
       "2  33176873  uman Resources Executive Management,   5 years...   \n",
       "3  27018550  r service expertise. Motivated to maintain cus...   \n",
       "4  17812897  rganization Startups  Employment Law  FMLA/ADA...   \n",
       "\n",
       "                                         Resume_html Category  \\\n",
       "0  <div class=\"fontsize fontface vmargins hmargin...       HR   \n",
       "1  <div class=\"fontsize fontface vmargins hmargin...       HR   \n",
       "2  <div class=\"fontsize fontface vmargins hmargin...       HR   \n",
       "3  <div class=\"fontsize fontface vmargins hmargin...       HR   \n",
       "4  <div class=\"fontsize fontface vmargins hmargin...       HR   \n",
       "\n",
       "                                      cleaned_resume  \n",
       "0  servic manag year experi hospit custom servic ...  \n",
       "1  ound commun market human resourc technolog exp...  \n",
       "2  uman resourc execut manag year hri develop mai...  \n",
       "3  r servic expertis motiv maintain custom satisf...  \n",
       "4  rganiz startup employ law mediat advocaci hr p...  "
      ]
     },
     "execution_count": 51,
     "metadata": {},
     "output_type": "execute_result"
    }
   ],
   "source": [
    "df.head()"
   ]
  },
  {
   "cell_type": "code",
   "execution_count": 52,
   "id": "e248de48-82e2-4e6c-a34a-3f01b8dba0da",
   "metadata": {},
   "outputs": [],
   "source": [
    "huggingface_model_name = 'distilbert-base-uncased'"
   ]
  },
  {
   "cell_type": "code",
   "execution_count": 53,
   "id": "595a3eb0-f0c0-4f34-b0e8-5290fd02d131",
   "metadata": {},
   "outputs": [
    {
     "name": "stderr",
     "output_type": "stream",
     "text": [
      "/home/ranamahmud/Documents/venv/lib/python3.10/site-packages/transformers/tokenization_utils_base.py:1601: FutureWarning: `clean_up_tokenization_spaces` was not set. It will be set to `True` by default. This behavior will be depracted in transformers v4.45, and will be then set to `False` by default. For more details check this issue: https://github.com/huggingface/transformers/issues/31884\n",
      "  warnings.warn(\n",
      "Some weights of DistilBertForSequenceClassification were not initialized from the model checkpoint at distilbert-base-uncased and are newly initialized: ['classifier.bias', 'classifier.weight', 'pre_classifier.bias', 'pre_classifier.weight']\n",
      "You should probably TRAIN this model on a down-stream task to be able to use it for predictions and inference.\n"
     ]
    }
   ],
   "source": [
    "\n",
    "\n",
    "\n",
    "# Prepare label mappings\n",
    "categories = df['Category'].unique()\n",
    "id2label = {idx: label for idx, label in enumerate(categories)}\n",
    "label2id = {label: idx for idx, label in enumerate(categories)}\n",
    "df['labels'] = df['Category'].map(label2id)\n",
    "\n",
    "# Load tokenizer and model\n",
    "tokenizer = AutoTokenizer.from_pretrained(huggingface_model_name)\n",
    "model = AutoModelForSequenceClassification.from_pretrained(\n",
    "    huggingface_model_name, \n",
    "    num_labels=len(categories), \n",
    "    id2label=id2label, \n",
    "    label2id=label2id\n",
    ")\n",
    "\n",
    "# Tokenize the Resume_str column\n",
    "def tokenize_function(examples):\n",
    "    return tokenizer(examples['Resume_str'], truncation=True, padding='max_length', max_length=512)\n",
    "\n",
    "# Tokenize dataset\n",
    "tokenized_resumes = df[['Resume_str', 'labels']].apply(tokenize_function, axis=1)\n",
    "\n",
    "# Split dataset\n",
    "X_train, X_test, y_train, y_test = train_test_split(\n",
    "    tokenized_resumes, \n",
    "    df['labels'], \n",
    "    test_size=0.2, \n",
    "    random_state=42, \n",
    "    stratify=df['labels']\n",
    ")\n",
    "\n",
    "X_train, X_valid, y_train, y_valid = train_test_split(\n",
    "    X_train, \n",
    "    y_train, \n",
    "    test_size=0.25,  # 0.25 * 0.8 = 0.2\n",
    "    random_state=42, \n",
    "    stratify=y_train\n",
    ")\n",
    "\n",
    "# Prepare datasets for Hugging Face Trainer\n",
    "train_dataset = Dataset.from_pandas(pd.DataFrame({\n",
    "    'input_ids': [x['input_ids'] for x in X_train], \n",
    "    'attention_mask': [x['attention_mask'] for x in X_train],\n",
    "    'labels': y_train\n",
    "}))"
   ]
  },
  {
   "cell_type": "code",
   "execution_count": 54,
   "id": "34e2a8e3-9178-41de-9f91-02ae3371ec92",
   "metadata": {},
   "outputs": [],
   "source": [
    "\n",
    "test_dataset = Dataset.from_pandas(pd.DataFrame({\n",
    "    'input_ids': [x['input_ids'] for x in X_test],\n",
    "    'attention_mask': [x['attention_mask'] for x in X_test],\n",
    "    'labels': y_test\n",
    "}))"
   ]
  },
  {
   "cell_type": "code",
   "execution_count": null,
   "id": "12fa502b-a527-45e7-8219-7d4f2d817c0b",
   "metadata": {},
   "outputs": [],
   "source": []
  },
  {
   "cell_type": "code",
   "execution_count": 55,
   "id": "41275c31-7c2c-42db-ae53-d640585ce970",
   "metadata": {},
   "outputs": [
    {
     "data": {
      "text/html": [
       "\n",
       "    <div>\n",
       "      \n",
       "      <progress value='611' max='1410' style='width:300px; height:20px; vertical-align: middle;'></progress>\n",
       "      [ 611/1410 02:24 < 03:09, 4.22 it/s, Epoch 13/30]\n",
       "    </div>\n",
       "    <table border=\"1\" class=\"dataframe\">\n",
       "  <thead>\n",
       " <tr style=\"text-align: left;\">\n",
       "      <th>Epoch</th>\n",
       "      <th>Training Loss</th>\n",
       "      <th>Validation Loss</th>\n",
       "      <th>Accuracy</th>\n",
       "      <th>Precision</th>\n",
       "      <th>Recall</th>\n",
       "      <th>F1</th>\n",
       "    </tr>\n",
       "  </thead>\n",
       "  <tbody>\n",
       "    <tr>\n",
       "      <td>1</td>\n",
       "      <td>No log</td>\n",
       "      <td>2.828601</td>\n",
       "      <td>0.420523</td>\n",
       "      <td>0.389580</td>\n",
       "      <td>0.420523</td>\n",
       "      <td>0.356679</td>\n",
       "    </tr>\n",
       "    <tr>\n",
       "      <td>2</td>\n",
       "      <td>No log</td>\n",
       "      <td>2.213694</td>\n",
       "      <td>0.547284</td>\n",
       "      <td>0.445326</td>\n",
       "      <td>0.547284</td>\n",
       "      <td>0.470055</td>\n",
       "    </tr>\n",
       "    <tr>\n",
       "      <td>3</td>\n",
       "      <td>No log</td>\n",
       "      <td>1.765684</td>\n",
       "      <td>0.653924</td>\n",
       "      <td>0.654558</td>\n",
       "      <td>0.653924</td>\n",
       "      <td>0.604725</td>\n",
       "    </tr>\n",
       "    <tr>\n",
       "      <td>4</td>\n",
       "      <td>No log</td>\n",
       "      <td>1.428346</td>\n",
       "      <td>0.722334</td>\n",
       "      <td>0.760489</td>\n",
       "      <td>0.722334</td>\n",
       "      <td>0.686817</td>\n",
       "    </tr>\n",
       "    <tr>\n",
       "      <td>5</td>\n",
       "      <td>No log</td>\n",
       "      <td>1.171756</td>\n",
       "      <td>0.790744</td>\n",
       "      <td>0.782123</td>\n",
       "      <td>0.790744</td>\n",
       "      <td>0.772022</td>\n",
       "    </tr>\n",
       "    <tr>\n",
       "      <td>6</td>\n",
       "      <td>No log</td>\n",
       "      <td>1.031817</td>\n",
       "      <td>0.800805</td>\n",
       "      <td>0.789354</td>\n",
       "      <td>0.800805</td>\n",
       "      <td>0.784513</td>\n",
       "    </tr>\n",
       "    <tr>\n",
       "      <td>7</td>\n",
       "      <td>No log</td>\n",
       "      <td>0.934666</td>\n",
       "      <td>0.808853</td>\n",
       "      <td>0.794326</td>\n",
       "      <td>0.808853</td>\n",
       "      <td>0.794770</td>\n",
       "    </tr>\n",
       "    <tr>\n",
       "      <td>8</td>\n",
       "      <td>No log</td>\n",
       "      <td>0.891870</td>\n",
       "      <td>0.816901</td>\n",
       "      <td>0.796753</td>\n",
       "      <td>0.816901</td>\n",
       "      <td>0.803106</td>\n",
       "    </tr>\n",
       "    <tr>\n",
       "      <td>9</td>\n",
       "      <td>No log</td>\n",
       "      <td>0.867441</td>\n",
       "      <td>0.812877</td>\n",
       "      <td>0.795662</td>\n",
       "      <td>0.812877</td>\n",
       "      <td>0.802171</td>\n",
       "    </tr>\n",
       "    <tr>\n",
       "      <td>10</td>\n",
       "      <td>No log</td>\n",
       "      <td>0.863099</td>\n",
       "      <td>0.814889</td>\n",
       "      <td>0.804877</td>\n",
       "      <td>0.814889</td>\n",
       "      <td>0.797622</td>\n",
       "    </tr>\n",
       "    <tr>\n",
       "      <td>11</td>\n",
       "      <td>1.334500</td>\n",
       "      <td>0.839744</td>\n",
       "      <td>0.818913</td>\n",
       "      <td>0.800777</td>\n",
       "      <td>0.818913</td>\n",
       "      <td>0.807082</td>\n",
       "    </tr>\n",
       "    <tr>\n",
       "      <td>12</td>\n",
       "      <td>1.334500</td>\n",
       "      <td>0.842773</td>\n",
       "      <td>0.808853</td>\n",
       "      <td>0.787758</td>\n",
       "      <td>0.808853</td>\n",
       "      <td>0.796054</td>\n",
       "    </tr>\n",
       "    <tr>\n",
       "      <td>13</td>\n",
       "      <td>1.334500</td>\n",
       "      <td>0.869501</td>\n",
       "      <td>0.810865</td>\n",
       "      <td>0.804476</td>\n",
       "      <td>0.810865</td>\n",
       "      <td>0.802909</td>\n",
       "    </tr>\n",
       "  </tbody>\n",
       "</table><p>"
      ],
      "text/plain": [
       "<IPython.core.display.HTML object>"
      ]
     },
     "metadata": {},
     "output_type": "display_data"
    },
    {
     "name": "stderr",
     "output_type": "stream",
     "text": [
      "/home/ranamahmud/Documents/venv/lib/python3.10/site-packages/sklearn/metrics/_classification.py:1531: UndefinedMetricWarning: Precision is ill-defined and being set to 0.0 in labels with no predicted samples. Use `zero_division` parameter to control this behavior.\n",
      "  _warn_prf(average, modifier, f\"{metric.capitalize()} is\", len(result))\n",
      "/home/ranamahmud/Documents/venv/lib/python3.10/site-packages/sklearn/metrics/_classification.py:1531: UndefinedMetricWarning: Precision is ill-defined and being set to 0.0 in labels with no predicted samples. Use `zero_division` parameter to control this behavior.\n",
      "  _warn_prf(average, modifier, f\"{metric.capitalize()} is\", len(result))\n",
      "/home/ranamahmud/Documents/venv/lib/python3.10/site-packages/sklearn/metrics/_classification.py:1531: UndefinedMetricWarning: Precision is ill-defined and being set to 0.0 in labels with no predicted samples. Use `zero_division` parameter to control this behavior.\n",
      "  _warn_prf(average, modifier, f\"{metric.capitalize()} is\", len(result))\n",
      "/home/ranamahmud/Documents/venv/lib/python3.10/site-packages/sklearn/metrics/_classification.py:1531: UndefinedMetricWarning: Precision is ill-defined and being set to 0.0 in labels with no predicted samples. Use `zero_division` parameter to control this behavior.\n",
      "  _warn_prf(average, modifier, f\"{metric.capitalize()} is\", len(result))\n",
      "/home/ranamahmud/Documents/venv/lib/python3.10/site-packages/sklearn/metrics/_classification.py:1531: UndefinedMetricWarning: Precision is ill-defined and being set to 0.0 in labels with no predicted samples. Use `zero_division` parameter to control this behavior.\n",
      "  _warn_prf(average, modifier, f\"{metric.capitalize()} is\", len(result))\n",
      "/home/ranamahmud/Documents/venv/lib/python3.10/site-packages/sklearn/metrics/_classification.py:1531: UndefinedMetricWarning: Precision is ill-defined and being set to 0.0 in labels with no predicted samples. Use `zero_division` parameter to control this behavior.\n",
      "  _warn_prf(average, modifier, f\"{metric.capitalize()} is\", len(result))\n",
      "/home/ranamahmud/Documents/venv/lib/python3.10/site-packages/sklearn/metrics/_classification.py:1531: UndefinedMetricWarning: Precision is ill-defined and being set to 0.0 in labels with no predicted samples. Use `zero_division` parameter to control this behavior.\n",
      "  _warn_prf(average, modifier, f\"{metric.capitalize()} is\", len(result))\n",
      "/home/ranamahmud/Documents/venv/lib/python3.10/site-packages/sklearn/metrics/_classification.py:1531: UndefinedMetricWarning: Precision is ill-defined and being set to 0.0 in labels with no predicted samples. Use `zero_division` parameter to control this behavior.\n",
      "  _warn_prf(average, modifier, f\"{metric.capitalize()} is\", len(result))\n",
      "/home/ranamahmud/Documents/venv/lib/python3.10/site-packages/sklearn/metrics/_classification.py:1531: UndefinedMetricWarning: Precision is ill-defined and being set to 0.0 in labels with no predicted samples. Use `zero_division` parameter to control this behavior.\n",
      "  _warn_prf(average, modifier, f\"{metric.capitalize()} is\", len(result))\n",
      "/home/ranamahmud/Documents/venv/lib/python3.10/site-packages/sklearn/metrics/_classification.py:1531: UndefinedMetricWarning: Precision is ill-defined and being set to 0.0 in labels with no predicted samples. Use `zero_division` parameter to control this behavior.\n",
      "  _warn_prf(average, modifier, f\"{metric.capitalize()} is\", len(result))\n",
      "/home/ranamahmud/Documents/venv/lib/python3.10/site-packages/sklearn/metrics/_classification.py:1531: UndefinedMetricWarning: Precision is ill-defined and being set to 0.0 in labels with no predicted samples. Use `zero_division` parameter to control this behavior.\n",
      "  _warn_prf(average, modifier, f\"{metric.capitalize()} is\", len(result))\n",
      "/home/ranamahmud/Documents/venv/lib/python3.10/site-packages/sklearn/metrics/_classification.py:1531: UndefinedMetricWarning: Precision is ill-defined and being set to 0.0 in labels with no predicted samples. Use `zero_division` parameter to control this behavior.\n",
      "  _warn_prf(average, modifier, f\"{metric.capitalize()} is\", len(result))\n",
      "/home/ranamahmud/Documents/venv/lib/python3.10/site-packages/sklearn/metrics/_classification.py:1531: UndefinedMetricWarning: Precision is ill-defined and being set to 0.0 in labels with no predicted samples. Use `zero_division` parameter to control this behavior.\n",
      "  _warn_prf(average, modifier, f\"{metric.capitalize()} is\", len(result))\n"
     ]
    },
    {
     "data": {
      "text/html": [
       "\n",
       "    <div>\n",
       "      \n",
       "      <progress value='32' max='16' style='width:300px; height:20px; vertical-align: middle;'></progress>\n",
       "      [16/16 00:02]\n",
       "    </div>\n",
       "    "
      ],
      "text/plain": [
       "<IPython.core.display.HTML object>"
      ]
     },
     "metadata": {},
     "output_type": "display_data"
    },
    {
     "name": "stderr",
     "output_type": "stream",
     "text": [
      "/home/ranamahmud/Documents/venv/lib/python3.10/site-packages/sklearn/metrics/_classification.py:1531: UndefinedMetricWarning: Precision is ill-defined and being set to 0.0 in labels with no predicted samples. Use `zero_division` parameter to control this behavior.\n",
      "  _warn_prf(average, modifier, f\"{metric.capitalize()} is\", len(result))\n"
     ]
    },
    {
     "data": {
      "text/plain": [
       "{'eval_loss': 0.8397436141967773,\n",
       " 'eval_accuracy': 0.8189134808853119,\n",
       " 'eval_precision': 0.8007768163999027,\n",
       " 'eval_recall': 0.8189134808853119,\n",
       " 'eval_f1': 0.8070818261139289,\n",
       " 'eval_runtime': 1.0932,\n",
       " 'eval_samples_per_second': 454.644,\n",
       " 'eval_steps_per_second': 14.636,\n",
       " 'epoch': 13.0}"
      ]
     },
     "execution_count": 55,
     "metadata": {},
     "output_type": "execute_result"
    }
   ],
   "source": [
    "valid_dataset = Dataset.from_pandas(pd.DataFrame({\n",
    "    'input_ids': [x['input_ids'] for x in X_valid],\n",
    "    'attention_mask': [x['attention_mask'] for x in X_valid],\n",
    "    'labels': y_valid\n",
    "}))\n",
    "\n",
    "# Define training arguments\n",
    "training_args = TrainingArguments(\n",
    "    output_dir=\"resume_classification\",\n",
    "    learning_rate=2e-5,\n",
    "    per_device_train_batch_size=32,\n",
    "    per_device_eval_batch_size=32,\n",
    "    num_train_epochs=30,\n",
    "    weight_decay=0.01,\n",
    "    eval_strategy=\"epoch\",\n",
    "    save_strategy=\"epoch\",\n",
    "    load_best_model_at_end=True,\n",
    "    push_to_hub=False,\n",
    ")\n",
    "\n",
    "def compute_metrics(p):\n",
    "    preds = np.argmax(p.predictions, axis=1)\n",
    "    precision, recall, f1, _ = precision_recall_fscore_support(p.label_ids, preds, average='weighted')\n",
    "    acc = accuracy_score(p.label_ids, preds)\n",
    "    return {\"accuracy\": acc, \"precision\": precision, \"recall\": recall, \"f1\": f1}\n",
    "\n",
    "from transformers import EarlyStoppingCallback\n",
    "# Initialize trainer\n",
    "trainer = Trainer(\n",
    "    model=model,\n",
    "    args=training_args,\n",
    "    train_dataset=train_dataset,\n",
    "    eval_dataset=valid_dataset,\n",
    "    tokenizer=tokenizer,\n",
    "    compute_metrics=compute_metrics,\n",
    "    callbacks=[EarlyStoppingCallback(early_stopping_patience=2)]\n",
    ")\n",
    "\n",
    "# Train the model\n",
    "trainer.train()\n",
    "\n",
    "# Evaluate the model\n",
    "trainer.evaluate()"
   ]
  },
  {
   "cell_type": "code",
   "execution_count": 56,
   "id": "89e3619c-684e-43ca-bf7c-e2a18278c197",
   "metadata": {},
   "outputs": [
    {
     "name": "stdout",
     "output_type": "stream",
     "text": [
      "Test Set Performance:\n",
      "{'eval_loss': 0.726285994052887, 'eval_accuracy': 0.8269617706237424, 'eval_precision': 0.8171643144088377, 'eval_recall': 0.8269617706237424, 'eval_f1': 0.8184141959598527, 'eval_runtime': 1.0941, 'eval_samples_per_second': 454.27, 'eval_steps_per_second': 14.624, 'epoch': 13.0}\n"
     ]
    },
    {
     "name": "stderr",
     "output_type": "stream",
     "text": [
      "/home/ranamahmud/Documents/venv/lib/python3.10/site-packages/sklearn/metrics/_classification.py:1531: UndefinedMetricWarning: Precision is ill-defined and being set to 0.0 in labels with no predicted samples. Use `zero_division` parameter to control this behavior.\n",
      "  _warn_prf(average, modifier, f\"{metric.capitalize()} is\", len(result))\n"
     ]
    }
   ],
   "source": [
    "# Evaluate on test set (final evaluation)\n",
    "print(\"Test Set Performance:\")\n",
    "test_results = trainer.evaluate(eval_dataset=test_dataset)\n",
    "print(test_results)"
   ]
  },
  {
   "cell_type": "markdown",
   "id": "8fde09a7-b52c-415b-bf74-9503677a3b90",
   "metadata": {},
   "source": [
    "# Rational Behind using distilbert-base-uncased model"
   ]
  },
  {
   "cell_type": "markdown",
   "id": "95364708-8162-4b53-b771-f73c11041b33",
   "metadata": {},
   "source": [
    "As classical machine learning models don't perform well on resume classification tasks, I've experimented with finetuning distilbert-base-uncased. The resume dataset had a class imbalance problem. For this reason, I've chosen the f1 score to measure model performance based on a valid set f1 score of 0.80 and test f1 score of 0.81, validation accuracy of 0.81, test data set accuracy of 0.82. This model generalized well on unseen data. I've decided to use this model for the final terminal application."
   ]
  },
  {
   "cell_type": "markdown",
   "id": "214dc07d-9be9-4886-be88-e4aa0583862e",
   "metadata": {},
   "source": [
    "## Save model"
   ]
  },
  {
   "cell_type": "code",
   "execution_count": 57,
   "id": "8d8fbb5b-8225-4fbf-acbc-f66686169ce0",
   "metadata": {},
   "outputs": [],
   "source": [
    "model_save_path = \"./resume_classification_model\"\n"
   ]
  },
  {
   "cell_type": "code",
   "execution_count": 58,
   "id": "cfccc59e-719c-4b47-ac28-8dc06a1ddef6",
   "metadata": {},
   "outputs": [
    {
     "data": {
      "text/plain": [
       "('./resume_classification_model/tokenizer_config.json',\n",
       " './resume_classification_model/special_tokens_map.json',\n",
       " './resume_classification_model/vocab.txt',\n",
       " './resume_classification_model/added_tokens.json',\n",
       " './resume_classification_model/tokenizer.json')"
      ]
     },
     "execution_count": 58,
     "metadata": {},
     "output_type": "execute_result"
    }
   ],
   "source": [
    "model.save_pretrained(model_save_path)\n",
    "tokenizer.save_pretrained(model_save_path)"
   ]
  },
  {
   "cell_type": "markdown",
   "id": "ea7bd9eb-0639-49c8-a51c-7d3aab957b76",
   "metadata": {},
   "source": [
    "# Inference Helper and Testing"
   ]
  },
  {
   "cell_type": "code",
   "execution_count": 59,
   "id": "bf04804d-b54f-4431-8118-df70745ea9c7",
   "metadata": {},
   "outputs": [],
   "source": [
    "def load_model_and_tokenizer(path):\n",
    "    model = AutoModelForSequenceClassification.from_pretrained(path)\n",
    "    tokenizer = AutoTokenizer.from_pretrained(path)\n",
    "    return model, tokenizer"
   ]
  },
  {
   "cell_type": "code",
   "execution_count": 60,
   "id": "6265bbac-1490-4a25-890e-1c64f1a64d7c",
   "metadata": {},
   "outputs": [],
   "source": [
    "model, tokenizer = load_model_and_tokenizer(model_save_path)"
   ]
  },
  {
   "cell_type": "code",
   "execution_count": 61,
   "id": "942a82cc-c95c-4bf5-8c42-ecc7e5a6f569",
   "metadata": {},
   "outputs": [
    {
     "data": {
      "text/html": [
       "<div>\n",
       "<style scoped>\n",
       "    .dataframe tbody tr th:only-of-type {\n",
       "        vertical-align: middle;\n",
       "    }\n",
       "\n",
       "    .dataframe tbody tr th {\n",
       "        vertical-align: top;\n",
       "    }\n",
       "\n",
       "    .dataframe thead th {\n",
       "        text-align: right;\n",
       "    }\n",
       "</style>\n",
       "<table border=\"1\" class=\"dataframe\">\n",
       "  <thead>\n",
       "    <tr style=\"text-align: right;\">\n",
       "      <th></th>\n",
       "      <th>ID</th>\n",
       "      <th>Resume_str</th>\n",
       "      <th>Resume_html</th>\n",
       "      <th>Category</th>\n",
       "      <th>cleaned_resume</th>\n",
       "      <th>labels</th>\n",
       "    </tr>\n",
       "  </thead>\n",
       "  <tbody>\n",
       "    <tr>\n",
       "      <th>0</th>\n",
       "      <td>16852973</td>\n",
       "      <td>Service Manager with 15+ years of experience ...</td>\n",
       "      <td>&lt;div class=\"fontsize fontface vmargins hmargin...</td>\n",
       "      <td>HR</td>\n",
       "      <td>servic manag year experi hospit custom servic ...</td>\n",
       "      <td>0</td>\n",
       "    </tr>\n",
       "    <tr>\n",
       "      <th>1</th>\n",
       "      <td>22323967</td>\n",
       "      <td>ound in Communications, Marketing, Human Resou...</td>\n",
       "      <td>&lt;div class=\"fontsize fontface vmargins hmargin...</td>\n",
       "      <td>HR</td>\n",
       "      <td>ound commun market human resourc technolog exp...</td>\n",
       "      <td>0</td>\n",
       "    </tr>\n",
       "    <tr>\n",
       "      <th>2</th>\n",
       "      <td>33176873</td>\n",
       "      <td>uman Resources Executive Management,   5 years...</td>\n",
       "      <td>&lt;div class=\"fontsize fontface vmargins hmargin...</td>\n",
       "      <td>HR</td>\n",
       "      <td>uman resourc execut manag year hri develop mai...</td>\n",
       "      <td>0</td>\n",
       "    </tr>\n",
       "    <tr>\n",
       "      <th>3</th>\n",
       "      <td>27018550</td>\n",
       "      <td>r service expertise. Motivated to maintain cus...</td>\n",
       "      <td>&lt;div class=\"fontsize fontface vmargins hmargin...</td>\n",
       "      <td>HR</td>\n",
       "      <td>r servic expertis motiv maintain custom satisf...</td>\n",
       "      <td>0</td>\n",
       "    </tr>\n",
       "    <tr>\n",
       "      <th>4</th>\n",
       "      <td>17812897</td>\n",
       "      <td>rganization Startups  Employment Law  FMLA/ADA...</td>\n",
       "      <td>&lt;div class=\"fontsize fontface vmargins hmargin...</td>\n",
       "      <td>HR</td>\n",
       "      <td>rganiz startup employ law mediat advocaci hr p...</td>\n",
       "      <td>0</td>\n",
       "    </tr>\n",
       "  </tbody>\n",
       "</table>\n",
       "</div>"
      ],
      "text/plain": [
       "         ID                                         Resume_str  \\\n",
       "0  16852973   Service Manager with 15+ years of experience ...   \n",
       "1  22323967  ound in Communications, Marketing, Human Resou...   \n",
       "2  33176873  uman Resources Executive Management,   5 years...   \n",
       "3  27018550  r service expertise. Motivated to maintain cus...   \n",
       "4  17812897  rganization Startups  Employment Law  FMLA/ADA...   \n",
       "\n",
       "                                         Resume_html Category  \\\n",
       "0  <div class=\"fontsize fontface vmargins hmargin...       HR   \n",
       "1  <div class=\"fontsize fontface vmargins hmargin...       HR   \n",
       "2  <div class=\"fontsize fontface vmargins hmargin...       HR   \n",
       "3  <div class=\"fontsize fontface vmargins hmargin...       HR   \n",
       "4  <div class=\"fontsize fontface vmargins hmargin...       HR   \n",
       "\n",
       "                                      cleaned_resume  labels  \n",
       "0  servic manag year experi hospit custom servic ...       0  \n",
       "1  ound commun market human resourc technolog exp...       0  \n",
       "2  uman resourc execut manag year hri develop mai...       0  \n",
       "3  r servic expertis motiv maintain custom satisf...       0  \n",
       "4  rganiz startup employ law mediat advocaci hr p...       0  "
      ]
     },
     "execution_count": 61,
     "metadata": {},
     "output_type": "execute_result"
    }
   ],
   "source": [
    "df.head()"
   ]
  },
  {
   "cell_type": "code",
   "execution_count": 62,
   "id": "c32c014a-3fe4-4228-adf5-d06b93ffc617",
   "metadata": {},
   "outputs": [],
   "source": [
    "def classify_resume(resume, model, tokenizer):\n",
    "    # Tokenize the input text\n",
    "    inputs = tokenizer(resume, truncation=True, padding='max_length', max_length=512, return_tensors=\"pt\")\n",
    "    \n",
    "    # Perform inference\n",
    "    with torch.no_grad():\n",
    "        outputs = model(**inputs)\n",
    "    \n",
    "    # Get the predicted label (output logits -> predicted class)\n",
    "    logits = outputs.logits\n",
    "    predicted_class_id = torch.argmax(logits, dim=1).item()\n",
    "    \n",
    "    return id2label[predicted_class_id]"
   ]
  },
  {
   "cell_type": "code",
   "execution_count": 63,
   "id": "606c0b75-add3-49a3-84b3-037b1124ccf8",
   "metadata": {},
   "outputs": [
    {
     "data": {
      "text/plain": [
       "'HR'"
      ]
     },
     "execution_count": 63,
     "metadata": {},
     "output_type": "execute_result"
    }
   ],
   "source": [
    "classify_resume(df.Resume_str[0], model, tokenizer)"
   ]
  },
  {
   "cell_type": "code",
   "execution_count": 64,
   "id": "369ffb04-98f0-447d-9925-ec6322bfa487",
   "metadata": {},
   "outputs": [
    {
     "data": {
      "text/plain": [
       "'DESIGNER'"
      ]
     },
     "execution_count": 64,
     "metadata": {},
     "output_type": "execute_result"
    }
   ],
   "source": [
    "classify_resume(df.Resume_str[200], model, tokenizer)"
   ]
  },
  {
   "cell_type": "code",
   "execution_count": 65,
   "id": "0265bef7-f8cb-4742-8373-f0d4cc9033b7",
   "metadata": {},
   "outputs": [
    {
     "data": {
      "text/plain": [
       "'DESIGNER'"
      ]
     },
     "execution_count": 65,
     "metadata": {},
     "output_type": "execute_result"
    }
   ],
   "source": [
    "id2label[1]"
   ]
  },
  {
   "cell_type": "code",
   "execution_count": 66,
   "id": "78135d21-492b-431d-a178-7c9d23227988",
   "metadata": {},
   "outputs": [
    {
     "data": {
      "text/plain": [
       "'DESIGNER'"
      ]
     },
     "execution_count": 66,
     "metadata": {},
     "output_type": "execute_result"
    }
   ],
   "source": [
    "df.Category[200]"
   ]
  },
  {
   "cell_type": "code",
   "execution_count": null,
   "id": "52256a0f-6c6e-40ab-a728-c6978fa252cb",
   "metadata": {},
   "outputs": [],
   "source": []
  },
  {
   "cell_type": "markdown",
   "id": "820df558-ed53-43a6-818d-49a20a0b307d",
   "metadata": {},
   "source": [
    "# Read pdf and do classification on a sample file"
   ]
  },
  {
   "cell_type": "code",
   "execution_count": 67,
   "id": "865410a2-d2ad-48aa-9562-6b4c20547fc1",
   "metadata": {},
   "outputs": [],
   "source": [
    "from pypdf import PdfReader"
   ]
  },
  {
   "cell_type": "code",
   "execution_count": 68,
   "id": "4a45ede4-66b5-4781-a53c-aebdb1ceb0c3",
   "metadata": {},
   "outputs": [],
   "source": [
    "def read_pdf(file):\n",
    "    reader = PdfReader(file)\n",
    "    text = [page.extract_text() for page in reader.pages]\n",
    "    # remove first line to remove data leackage\n",
    "    return ' '.join(text)"
   ]
  },
  {
   "cell_type": "code",
   "execution_count": 69,
   "id": "04b6e0e9-8afe-49cd-99d6-37cf17505e3a",
   "metadata": {},
   "outputs": [
    {
     "data": {
      "text/plain": [
       "'inancial Accountant specializing in financial plan'"
      ]
     },
     "execution_count": 69,
     "metadata": {},
     "output_type": "execute_result"
    }
   ],
   "source": [
    "file = read_pdf(\"/home/ranamahmud/Documents/resume-classification/data/data/ACCOUNTANT/10554236.pdf\")[20:]\n",
    "file[0:50]"
   ]
  },
  {
   "cell_type": "code",
   "execution_count": 70,
   "id": "92aabb0d-2181-4e72-8a48-f4e5e11696e2",
   "metadata": {},
   "outputs": [
    {
     "data": {
      "text/plain": [
       "'ACCOUNTANT'"
      ]
     },
     "execution_count": 70,
     "metadata": {},
     "output_type": "execute_result"
    }
   ],
   "source": [
    "classify_resume(file, model, tokenizer)"
   ]
  },
  {
   "cell_type": "code",
   "execution_count": 71,
   "id": "799e1105-b584-4997-ba87-d9626574f066",
   "metadata": {},
   "outputs": [
    {
     "data": {
      "text/plain": [
       "'ACCOUNTANT'"
      ]
     },
     "execution_count": 71,
     "metadata": {},
     "output_type": "execute_result"
    }
   ],
   "source": [
    "id2label[18]"
   ]
  },
  {
   "cell_type": "code",
   "execution_count": 72,
   "id": "938f0bb6-93b3-4305-bf0f-ba1ede2322e3",
   "metadata": {},
   "outputs": [],
   "source": [
    "import os\n",
    "def get_pdf_files_from_directory(directory):\n",
    "    \"\"\"Recursively get all PDF files from the given directory.\"\"\"\n",
    "    pdf_files = []\n",
    "    \n",
    "    # Traverse the directory\n",
    "    for root, dirs, files in os.walk(directory):\n",
    "        for file in files:\n",
    "            if file.endswith('.pdf'):  # Check for PDF files\n",
    "                pdf_files.append(os.path.join(root, file))\n",
    "    \n",
    "    return pdf_files"
   ]
  },
  {
   "cell_type": "code",
   "execution_count": 73,
   "id": "936a36dd-5cc9-49fd-90e5-b228de75560b",
   "metadata": {},
   "outputs": [],
   "source": [
    "pdf_files = get_pdf_files_from_directory(\"./data/data/\")"
   ]
  },
  {
   "cell_type": "code",
   "execution_count": 74,
   "id": "f746d6d1-5802-438d-9db6-0bc0368850fe",
   "metadata": {
    "scrolled": true
   },
   "outputs": [
    {
     "data": {
      "text/plain": [
       "['./data/data/INFORMATION-TECHNOLOGY/19850482.pdf',\n",
       " './data/data/INFORMATION-TECHNOLOGY/13405733.pdf',\n",
       " './data/data/INFORMATION-TECHNOLOGY/28672970.pdf',\n",
       " './data/data/INFORMATION-TECHNOLOGY/15651486.pdf',\n",
       " './data/data/INFORMATION-TECHNOLOGY/24889109.pdf']"
      ]
     },
     "execution_count": 74,
     "metadata": {},
     "output_type": "execute_result"
    }
   ],
   "source": [
    "pdf_files[0:5]"
   ]
  },
  {
   "cell_type": "code",
   "execution_count": 75,
   "id": "d3cb16db-b775-47ae-9e25-cf3eabb0426b",
   "metadata": {},
   "outputs": [
    {
     "data": {
      "text/plain": [
       "'INFORMATION-TECHNOLOGY'"
      ]
     },
     "execution_count": 75,
     "metadata": {},
     "output_type": "execute_result"
    }
   ],
   "source": [
    "file = pdf_files[0]\n",
    "classify_resume(file, model, tokenizer)"
   ]
  },
  {
   "cell_type": "code",
   "execution_count": 76,
   "id": "26e781c3-071b-494b-84ed-5886c6830a91",
   "metadata": {},
   "outputs": [
    {
     "data": {
      "text/plain": [
       "'ACCOUNTANT'"
      ]
     },
     "execution_count": 76,
     "metadata": {},
     "output_type": "execute_result"
    }
   ],
   "source": [
    "file = pdf_files[1000]\n",
    "classify_resume(file, model, tokenizer)"
   ]
  },
  {
   "cell_type": "code",
   "execution_count": 77,
   "id": "d9b7e23b-9c17-4469-bfe2-6a557d19ebb7",
   "metadata": {},
   "outputs": [
    {
     "data": {
      "text/plain": [
       "'./data/data/ACCOUNTANT/24103168.pdf'"
      ]
     },
     "execution_count": 77,
     "metadata": {},
     "output_type": "execute_result"
    }
   ],
   "source": [
    "pdf_files[1000]"
   ]
  },
  {
   "cell_type": "code",
   "execution_count": null,
   "id": "770ed689-075c-4b5e-9b20-38807259b55f",
   "metadata": {},
   "outputs": [],
   "source": []
  }
 ],
 "metadata": {
  "kernelspec": {
   "display_name": "Python 3 (ipykernel)",
   "language": "python",
   "name": "python3"
  },
  "language_info": {
   "codemirror_mode": {
    "name": "ipython",
    "version": 3
   },
   "file_extension": ".py",
   "mimetype": "text/x-python",
   "name": "python",
   "nbconvert_exporter": "python",
   "pygments_lexer": "ipython3",
   "version": "3.10.12"
  }
 },
 "nbformat": 4,
 "nbformat_minor": 5
}
